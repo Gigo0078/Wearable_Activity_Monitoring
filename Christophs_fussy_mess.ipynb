{
 "cells": [
  {
   "cell_type": "code",
   "execution_count": 87,
   "metadata": {},
   "outputs": [],
   "source": [
    "import numpy as np\n",
    "import matplotlib.pyplot as plt\n",
    "\n",
    "# You may change the mhealth_activity module but your algorithm must support the original version\n",
    "from mhealth_activity import Recording, Trace, Activity, WatchLocation, Path\n",
    "\n",
    "# For interactive plots, uncomment the following line\n",
    "# %matplotlib widget"
   ]
  },
  {
   "cell_type": "code",
   "execution_count": 88,
   "metadata": {},
   "outputs": [
    {
     "name": "stderr",
     "output_type": "stream",
     "text": [
      "Exception ignored in: <bound method IPythonKernel._clean_thread_parent_frames of <ipykernel.ipkernel.IPythonKernel object at 0x00000143CA8E3390>>\n",
      "Traceback (most recent call last):\n",
      "  File \"c:\\Users\\oliwi\\Documents\\MHA\\mhavenv\\Lib\\site-packages\\ipykernel\\ipkernel.py\", line 770, in _clean_thread_parent_frames\n",
      "    def _clean_thread_parent_frames(\n",
      "\n",
      "KeyboardInterrupt: \n"
     ]
    }
   ],
   "source": [
    "import os\n",
    "import pandas as pd\n",
    "\n",
    "files = os.listdir('data/train')\n",
    "list_of_dfs = []\n",
    "\n",
    "for file in files:\n",
    "    d = Recording(os.path.join('data/train',file))\n",
    "    list_of_dfs.append(d)\n",
    "\n",
    "data = pd.DataFrame(list_of_dfs)"
   ]
  },
  {
   "cell_type": "code",
   "execution_count": null,
   "metadata": {},
   "outputs": [],
   "source": [
    "data.columns = [\"recording\"]"
   ]
  },
  {
   "cell_type": "code",
   "execution_count": null,
   "metadata": {},
   "outputs": [],
   "source": [
    "christophs_fussy_mess = []\n",
    "for sample in data[\"recording\"]:\n",
    "    christophs_fussy_mess.extend([[sample.labels[\"path_idx\"],sample.labels[\"activities\"],\n",
    "                                   sample.data[\"longitude\"],sample.data[\"latitude\"],\n",
    "                                   sample.data[\"speed\"],sample.data[\"altitude\"]]])"
   ]
  },
  {
   "cell_type": "code",
   "execution_count": null,
   "metadata": {},
   "outputs": [],
   "source": [
    "christophs_fussy_mess = pd.DataFrame(christophs_fussy_mess)"
   ]
  },
  {
   "cell_type": "code",
   "execution_count": null,
   "metadata": {},
   "outputs": [],
   "source": [
    "christophs_fussy_mess.columns = [\"path_idx\",\"activities\",\"longitude\",\"latitude\",\"speed\",\"altitude\"]"
   ]
  },
  {
   "cell_type": "code",
   "execution_count": null,
   "metadata": {},
   "outputs": [
    {
     "data": {
      "text/html": [
       "<div>\n",
       "<style scoped>\n",
       "    .dataframe tbody tr th:only-of-type {\n",
       "        vertical-align: middle;\n",
       "    }\n",
       "\n",
       "    .dataframe tbody tr th {\n",
       "        vertical-align: top;\n",
       "    }\n",
       "\n",
       "    .dataframe thead th {\n",
       "        text-align: right;\n",
       "    }\n",
       "</style>\n",
       "<table border=\"1\" class=\"dataframe\">\n",
       "  <thead>\n",
       "    <tr style=\"text-align: right;\">\n",
       "      <th></th>\n",
       "      <th>path_idx</th>\n",
       "      <th>activities</th>\n",
       "      <th>longitude</th>\n",
       "      <th>latitude</th>\n",
       "      <th>speed</th>\n",
       "      <th>altitude</th>\n",
       "    </tr>\n",
       "  </thead>\n",
       "  <tbody>\n",
       "    <tr>\n",
       "      <th>0</th>\n",
       "      <td>2</td>\n",
       "      <td>[1]</td>\n",
       "      <td>Trace(title='longitude', total_time=584.87, sa...</td>\n",
       "      <td>Trace(title='latitude', total_time=584.87, sam...</td>\n",
       "      <td>Trace(title='speed', total_time=584.87, sample...</td>\n",
       "      <td>Trace(title='altitude', total_time=584.87, sam...</td>\n",
       "    </tr>\n",
       "    <tr>\n",
       "      <th>1</th>\n",
       "      <td>0</td>\n",
       "      <td>[1, 2]</td>\n",
       "      <td>Trace(title='longitude', total_time=519.01, sa...</td>\n",
       "      <td>Trace(title='latitude', total_time=519.01, sam...</td>\n",
       "      <td>Trace(title='speed', total_time=519.01, sample...</td>\n",
       "      <td>Trace(title='altitude', total_time=519.01, sam...</td>\n",
       "    </tr>\n",
       "    <tr>\n",
       "      <th>2</th>\n",
       "      <td>0</td>\n",
       "      <td>[0, 1, 2]</td>\n",
       "      <td>Trace(title='longitude', total_time=594.12, sa...</td>\n",
       "      <td>Trace(title='latitude', total_time=594.12, sam...</td>\n",
       "      <td>Trace(title='speed', total_time=594.12, sample...</td>\n",
       "      <td>Trace(title='altitude', total_time=594.12, sam...</td>\n",
       "    </tr>\n",
       "    <tr>\n",
       "      <th>3</th>\n",
       "      <td>2</td>\n",
       "      <td>[1]</td>\n",
       "      <td>Trace(title='longitude', total_time=519.63, sa...</td>\n",
       "      <td>Trace(title='latitude', total_time=519.63, sam...</td>\n",
       "      <td>Trace(title='speed', total_time=519.63, sample...</td>\n",
       "      <td>Trace(title='altitude', total_time=519.63, sam...</td>\n",
       "    </tr>\n",
       "    <tr>\n",
       "      <th>4</th>\n",
       "      <td>1</td>\n",
       "      <td>[1]</td>\n",
       "      <td>Trace(title='longitude', total_time=625.44, sa...</td>\n",
       "      <td>Trace(title='latitude', total_time=625.44, sam...</td>\n",
       "      <td>Trace(title='speed', total_time=625.44, sample...</td>\n",
       "      <td>Trace(title='altitude', total_time=625.44, sam...</td>\n",
       "    </tr>\n",
       "    <tr>\n",
       "      <th>...</th>\n",
       "      <td>...</td>\n",
       "      <td>...</td>\n",
       "      <td>...</td>\n",
       "      <td>...</td>\n",
       "      <td>...</td>\n",
       "      <td>...</td>\n",
       "    </tr>\n",
       "    <tr>\n",
       "      <th>391</th>\n",
       "      <td>3</td>\n",
       "      <td>[0, 1, 2]</td>\n",
       "      <td>Trace(title='longitude', total_time=325.70, sa...</td>\n",
       "      <td>Trace(title='latitude', total_time=325.70, sam...</td>\n",
       "      <td>Trace(title='speed', total_time=325.70, sample...</td>\n",
       "      <td>Trace(title='altitude', total_time=325.70, sam...</td>\n",
       "    </tr>\n",
       "    <tr>\n",
       "      <th>392</th>\n",
       "      <td>4</td>\n",
       "      <td>[1]</td>\n",
       "      <td>Trace(title='longitude', total_time=619.13, sa...</td>\n",
       "      <td>Trace(title='latitude', total_time=619.13, sam...</td>\n",
       "      <td>Trace(title='speed', total_time=619.13, sample...</td>\n",
       "      <td>Trace(title='altitude', total_time=619.13, sam...</td>\n",
       "    </tr>\n",
       "    <tr>\n",
       "      <th>393</th>\n",
       "      <td>2</td>\n",
       "      <td>[1]</td>\n",
       "      <td>Trace(title='longitude', total_time=747.65, sa...</td>\n",
       "      <td>Trace(title='latitude', total_time=747.65, sam...</td>\n",
       "      <td>Trace(title='speed', total_time=747.65, sample...</td>\n",
       "      <td>Trace(title='altitude', total_time=747.65, sam...</td>\n",
       "    </tr>\n",
       "    <tr>\n",
       "      <th>394</th>\n",
       "      <td>3</td>\n",
       "      <td>[1]</td>\n",
       "      <td>Trace(title='longitude', total_time=456.01, sa...</td>\n",
       "      <td>Trace(title='latitude', total_time=456.01, sam...</td>\n",
       "      <td>Trace(title='speed', total_time=456.01, sample...</td>\n",
       "      <td>Trace(title='altitude', total_time=456.01, sam...</td>\n",
       "    </tr>\n",
       "    <tr>\n",
       "      <th>395</th>\n",
       "      <td>0</td>\n",
       "      <td>[1, 0, 1]</td>\n",
       "      <td>Trace(title='longitude', total_time=637.56, sa...</td>\n",
       "      <td>Trace(title='latitude', total_time=637.56, sam...</td>\n",
       "      <td>Trace(title='speed', total_time=637.56, sample...</td>\n",
       "      <td>Trace(title='altitude', total_time=637.56, sam...</td>\n",
       "    </tr>\n",
       "  </tbody>\n",
       "</table>\n",
       "<p>396 rows × 6 columns</p>\n",
       "</div>"
      ],
      "text/plain": [
       "     path_idx activities                                          longitude  \\\n",
       "0           2        [1]  Trace(title='longitude', total_time=584.87, sa...   \n",
       "1           0     [1, 2]  Trace(title='longitude', total_time=519.01, sa...   \n",
       "2           0  [0, 1, 2]  Trace(title='longitude', total_time=594.12, sa...   \n",
       "3           2        [1]  Trace(title='longitude', total_time=519.63, sa...   \n",
       "4           1        [1]  Trace(title='longitude', total_time=625.44, sa...   \n",
       "..        ...        ...                                                ...   \n",
       "391         3  [0, 1, 2]  Trace(title='longitude', total_time=325.70, sa...   \n",
       "392         4        [1]  Trace(title='longitude', total_time=619.13, sa...   \n",
       "393         2        [1]  Trace(title='longitude', total_time=747.65, sa...   \n",
       "394         3        [1]  Trace(title='longitude', total_time=456.01, sa...   \n",
       "395         0  [1, 0, 1]  Trace(title='longitude', total_time=637.56, sa...   \n",
       "\n",
       "                                              latitude  \\\n",
       "0    Trace(title='latitude', total_time=584.87, sam...   \n",
       "1    Trace(title='latitude', total_time=519.01, sam...   \n",
       "2    Trace(title='latitude', total_time=594.12, sam...   \n",
       "3    Trace(title='latitude', total_time=519.63, sam...   \n",
       "4    Trace(title='latitude', total_time=625.44, sam...   \n",
       "..                                                 ...   \n",
       "391  Trace(title='latitude', total_time=325.70, sam...   \n",
       "392  Trace(title='latitude', total_time=619.13, sam...   \n",
       "393  Trace(title='latitude', total_time=747.65, sam...   \n",
       "394  Trace(title='latitude', total_time=456.01, sam...   \n",
       "395  Trace(title='latitude', total_time=637.56, sam...   \n",
       "\n",
       "                                                 speed  \\\n",
       "0    Trace(title='speed', total_time=584.87, sample...   \n",
       "1    Trace(title='speed', total_time=519.01, sample...   \n",
       "2    Trace(title='speed', total_time=594.12, sample...   \n",
       "3    Trace(title='speed', total_time=519.63, sample...   \n",
       "4    Trace(title='speed', total_time=625.44, sample...   \n",
       "..                                                 ...   \n",
       "391  Trace(title='speed', total_time=325.70, sample...   \n",
       "392  Trace(title='speed', total_time=619.13, sample...   \n",
       "393  Trace(title='speed', total_time=747.65, sample...   \n",
       "394  Trace(title='speed', total_time=456.01, sample...   \n",
       "395  Trace(title='speed', total_time=637.56, sample...   \n",
       "\n",
       "                                              altitude  \n",
       "0    Trace(title='altitude', total_time=584.87, sam...  \n",
       "1    Trace(title='altitude', total_time=519.01, sam...  \n",
       "2    Trace(title='altitude', total_time=594.12, sam...  \n",
       "3    Trace(title='altitude', total_time=519.63, sam...  \n",
       "4    Trace(title='altitude', total_time=625.44, sam...  \n",
       "..                                                 ...  \n",
       "391  Trace(title='altitude', total_time=325.70, sam...  \n",
       "392  Trace(title='altitude', total_time=619.13, sam...  \n",
       "393  Trace(title='altitude', total_time=747.65, sam...  \n",
       "394  Trace(title='altitude', total_time=456.01, sam...  \n",
       "395  Trace(title='altitude', total_time=637.56, sam...  \n",
       "\n",
       "[396 rows x 6 columns]"
      ]
     },
     "execution_count": 53,
     "metadata": {},
     "output_type": "execute_result"
    }
   ],
   "source": [
    "christophs_fussy_mess"
   ]
  },
  {
   "cell_type": "code",
   "execution_count": null,
   "metadata": {},
   "outputs": [
    {
     "ename": "AttributeError",
     "evalue": "'Series' object has no attribute 'data'",
     "output_type": "error",
     "traceback": [
      "\u001b[1;31m---------------------------------------------------------------------------\u001b[0m",
      "\u001b[1;31mAttributeError\u001b[0m                            Traceback (most recent call last)",
      "\u001b[1;32m~\\AppData\\Local\\Temp\\ipykernel_26348\\2489181249.py\u001b[0m in \u001b[0;36m?\u001b[1;34m()\u001b[0m\n\u001b[1;32m----> 1\u001b[1;33m \u001b[0mdata\u001b[0m\u001b[1;33m[\u001b[0m\u001b[1;34m\"recording\"\u001b[0m\u001b[1;33m]\u001b[0m\u001b[1;33m.\u001b[0m\u001b[0mdata\u001b[0m\u001b[1;33m[\u001b[0m\u001b[1;34m\"phone_steps\"\u001b[0m\u001b[1;33m]\u001b[0m\u001b[1;33m\u001b[0m\u001b[1;33m\u001b[0m\u001b[0m\n\u001b[0m",
      "\u001b[1;32mc:\\Users\\oliwi\\Documents\\MHA\\mhavenv\\Lib\\site-packages\\pandas\\core\\generic.py\u001b[0m in \u001b[0;36m?\u001b[1;34m(self, name)\u001b[0m\n\u001b[0;32m   6292\u001b[0m             \u001b[1;32mand\u001b[0m \u001b[0mname\u001b[0m \u001b[1;32mnot\u001b[0m \u001b[1;32min\u001b[0m \u001b[0mself\u001b[0m\u001b[1;33m.\u001b[0m\u001b[0m_accessors\u001b[0m\u001b[1;33m\u001b[0m\u001b[1;33m\u001b[0m\u001b[0m\n\u001b[0;32m   6293\u001b[0m             \u001b[1;32mand\u001b[0m \u001b[0mself\u001b[0m\u001b[1;33m.\u001b[0m\u001b[0m_info_axis\u001b[0m\u001b[1;33m.\u001b[0m\u001b[0m_can_hold_identifiers_and_holds_name\u001b[0m\u001b[1;33m(\u001b[0m\u001b[0mname\u001b[0m\u001b[1;33m)\u001b[0m\u001b[1;33m\u001b[0m\u001b[1;33m\u001b[0m\u001b[0m\n\u001b[0;32m   6294\u001b[0m         ):\n\u001b[0;32m   6295\u001b[0m             \u001b[1;32mreturn\u001b[0m \u001b[0mself\u001b[0m\u001b[1;33m[\u001b[0m\u001b[0mname\u001b[0m\u001b[1;33m]\u001b[0m\u001b[1;33m\u001b[0m\u001b[1;33m\u001b[0m\u001b[0m\n\u001b[1;32m-> 6296\u001b[1;33m         \u001b[1;32mreturn\u001b[0m \u001b[0mobject\u001b[0m\u001b[1;33m.\u001b[0m\u001b[0m__getattribute__\u001b[0m\u001b[1;33m(\u001b[0m\u001b[0mself\u001b[0m\u001b[1;33m,\u001b[0m \u001b[0mname\u001b[0m\u001b[1;33m)\u001b[0m\u001b[1;33m\u001b[0m\u001b[1;33m\u001b[0m\u001b[0m\n\u001b[0m",
      "\u001b[1;31mAttributeError\u001b[0m: 'Series' object has no attribute 'data'"
     ]
    }
   ],
   "source": [
    "#data[\"recording\"].data[\"phone_steps\"]"
   ]
  },
  {
   "cell_type": "code",
   "execution_count": 89,
   "metadata": {},
   "outputs": [],
   "source": [
    "def check_only_number(lst, num):\n",
    "    return all(x == num for x in lst)"
   ]
  },
  {
   "cell_type": "code",
   "execution_count": 90,
   "metadata": {},
   "outputs": [
    {
     "data": {
      "text/plain": [
       "0            [1]\n",
       "1         [1, 2]\n",
       "2      [0, 1, 2]\n",
       "3            [1]\n",
       "4            [1]\n",
       "         ...    \n",
       "391    [0, 1, 2]\n",
       "392          [1]\n",
       "393          [1]\n",
       "394          [1]\n",
       "395    [1, 0, 1]\n",
       "Name: activities, Length: 396, dtype: object"
      ]
     },
     "execution_count": 90,
     "metadata": {},
     "output_type": "execute_result"
    }
   ],
   "source": [
    "christophs_fussy_mess[\"activities\"]"
   ]
  },
  {
   "cell_type": "code",
   "execution_count": 91,
   "metadata": {},
   "outputs": [],
   "source": [
    "i = 0\n",
    "list_singles = []\n",
    "for sample in christophs_fussy_mess[\"activities\"]:\n",
    "    if(check_only_number(sample,1)):\n",
    "        list_singles.append(i)\n",
    "    i = i + 1"
   ]
  },
  {
   "cell_type": "code",
   "execution_count": 92,
   "metadata": {},
   "outputs": [
    {
     "data": {
      "text/plain": [
       "[0,\n",
       " 3,\n",
       " 4,\n",
       " 5,\n",
       " 6,\n",
       " 7,\n",
       " 8,\n",
       " 9,\n",
       " 10,\n",
       " 11,\n",
       " 13,\n",
       " 16,\n",
       " 20,\n",
       " 22,\n",
       " 23,\n",
       " 24,\n",
       " 29,\n",
       " 31,\n",
       " 33,\n",
       " 37,\n",
       " 38,\n",
       " 39,\n",
       " 43,\n",
       " 47,\n",
       " 48,\n",
       " 49,\n",
       " 50,\n",
       " 51,\n",
       " 53,\n",
       " 54,\n",
       " 55,\n",
       " 57,\n",
       " 60,\n",
       " 61,\n",
       " 63,\n",
       " 65,\n",
       " 68,\n",
       " 70,\n",
       " 71,\n",
       " 72,\n",
       " 77,\n",
       " 78,\n",
       " 79,\n",
       " 83,\n",
       " 84,\n",
       " 85,\n",
       " 86,\n",
       " 89,\n",
       " 90,\n",
       " 91,\n",
       " 92,\n",
       " 93,\n",
       " 94,\n",
       " 95,\n",
       " 96,\n",
       " 98,\n",
       " 99,\n",
       " 103,\n",
       " 106,\n",
       " 107,\n",
       " 109,\n",
       " 112,\n",
       " 115,\n",
       " 116,\n",
       " 117,\n",
       " 120,\n",
       " 121,\n",
       " 122,\n",
       " 123,\n",
       " 125,\n",
       " 126,\n",
       " 128,\n",
       " 129,\n",
       " 131,\n",
       " 134,\n",
       " 135,\n",
       " 137,\n",
       " 138,\n",
       " 141,\n",
       " 142,\n",
       " 143,\n",
       " 145,\n",
       " 146,\n",
       " 151,\n",
       " 152,\n",
       " 153,\n",
       " 156,\n",
       " 160,\n",
       " 163,\n",
       " 165,\n",
       " 168,\n",
       " 169,\n",
       " 170,\n",
       " 172,\n",
       " 173,\n",
       " 175,\n",
       " 176,\n",
       " 177,\n",
       " 180,\n",
       " 181,\n",
       " 185,\n",
       " 186,\n",
       " 193,\n",
       " 194,\n",
       " 197,\n",
       " 199,\n",
       " 200,\n",
       " 202,\n",
       " 205,\n",
       " 206,\n",
       " 208,\n",
       " 209,\n",
       " 210,\n",
       " 215,\n",
       " 217,\n",
       " 220,\n",
       " 222,\n",
       " 225,\n",
       " 226,\n",
       " 227,\n",
       " 230,\n",
       " 231,\n",
       " 233,\n",
       " 234,\n",
       " 235,\n",
       " 237,\n",
       " 241,\n",
       " 244,\n",
       " 247,\n",
       " 248,\n",
       " 249,\n",
       " 251,\n",
       " 252,\n",
       " 253,\n",
       " 254,\n",
       " 255,\n",
       " 256,\n",
       " 258,\n",
       " 260,\n",
       " 261,\n",
       " 263,\n",
       " 264,\n",
       " 266,\n",
       " 269,\n",
       " 270,\n",
       " 271,\n",
       " 273,\n",
       " 278,\n",
       " 279,\n",
       " 280,\n",
       " 281,\n",
       " 282,\n",
       " 283,\n",
       " 284,\n",
       " 285,\n",
       " 289,\n",
       " 290,\n",
       " 291,\n",
       " 292,\n",
       " 294,\n",
       " 299,\n",
       " 301,\n",
       " 302,\n",
       " 303,\n",
       " 307,\n",
       " 309,\n",
       " 310,\n",
       " 311,\n",
       " 314,\n",
       " 316,\n",
       " 318,\n",
       " 319,\n",
       " 322,\n",
       " 324,\n",
       " 325,\n",
       " 326,\n",
       " 327,\n",
       " 328,\n",
       " 331,\n",
       " 332,\n",
       " 333,\n",
       " 334,\n",
       " 336,\n",
       " 337,\n",
       " 338,\n",
       " 342,\n",
       " 343,\n",
       " 345,\n",
       " 348,\n",
       " 349,\n",
       " 351,\n",
       " 353,\n",
       " 354,\n",
       " 355,\n",
       " 356,\n",
       " 357,\n",
       " 359,\n",
       " 362,\n",
       " 363,\n",
       " 365,\n",
       " 366,\n",
       " 368,\n",
       " 371,\n",
       " 373,\n",
       " 374,\n",
       " 375,\n",
       " 377,\n",
       " 378,\n",
       " 384,\n",
       " 386,\n",
       " 387,\n",
       " 389,\n",
       " 390,\n",
       " 392,\n",
       " 393,\n",
       " 394]"
      ]
     },
     "execution_count": 92,
     "metadata": {},
     "output_type": "execute_result"
    }
   ],
   "source": [
    "list_singles"
   ]
  },
  {
   "cell_type": "code",
   "execution_count": 93,
   "metadata": {},
   "outputs": [],
   "source": [
    "i = 0\n",
    "list_singles = []\n",
    "for sample in christophs_fussy_mess[\"activities\"]:\n",
    "    if(check_only_number(sample,3)):\n",
    "        list_singles.append(i)\n",
    "    i = i + 1"
   ]
  },
  {
   "cell_type": "code",
   "execution_count": 94,
   "metadata": {},
   "outputs": [
    {
     "data": {
      "text/plain": [
       "[27, 46, 82, 114, 154, 155, 179, 184, 238, 287, 288, 298, 315, 329, 361]"
      ]
     },
     "execution_count": 94,
     "metadata": {},
     "output_type": "execute_result"
    }
   ],
   "source": [
    "list_singles"
   ]
  },
  {
   "cell_type": "code",
   "execution_count": 95,
   "metadata": {},
   "outputs": [
    {
     "name": "stderr",
     "output_type": "stream",
     "text": [
      "c:\\Users\\oliwi\\Documents\\MHA\\mhavenv\\Lib\\site-packages\\scipy\\interpolate\\_interpolate.py:701: RuntimeWarning: invalid value encountered in divide\n",
      "  slope = (y_hi - y_lo) / (x_hi - x_lo)[:, None]\n"
     ]
    },
    {
     "data": {
      "text/html": [
       "<div>\n",
       "<style scoped>\n",
       "    .dataframe tbody tr th:only-of-type {\n",
       "        vertical-align: middle;\n",
       "    }\n",
       "\n",
       "    .dataframe tbody tr th {\n",
       "        vertical-align: top;\n",
       "    }\n",
       "\n",
       "    .dataframe thead th {\n",
       "        text-align: right;\n",
       "    }\n",
       "</style>\n",
       "<table border=\"1\" class=\"dataframe\">\n",
       "  <thead>\n",
       "    <tr style=\"text-align: right;\">\n",
       "      <th></th>\n",
       "      <th>0</th>\n",
       "    </tr>\n",
       "  </thead>\n",
       "  <tbody>\n",
       "    <tr>\n",
       "      <th>0</th>\n",
       "      <td>Recording(filename='train_trace_000.pkl', labe...</td>\n",
       "    </tr>\n",
       "    <tr>\n",
       "      <th>1</th>\n",
       "      <td>Recording(filename='train_trace_001.pkl', labe...</td>\n",
       "    </tr>\n",
       "    <tr>\n",
       "      <th>2</th>\n",
       "      <td>Recording(filename='train_trace_002.pkl', labe...</td>\n",
       "    </tr>\n",
       "    <tr>\n",
       "      <th>3</th>\n",
       "      <td>Recording(filename='train_trace_003.pkl', labe...</td>\n",
       "    </tr>\n",
       "    <tr>\n",
       "      <th>4</th>\n",
       "      <td>Recording(filename='train_trace_004.pkl', labe...</td>\n",
       "    </tr>\n",
       "    <tr>\n",
       "      <th>...</th>\n",
       "      <td>...</td>\n",
       "    </tr>\n",
       "    <tr>\n",
       "      <th>391</th>\n",
       "      <td>Recording(filename='train_trace_391.pkl', labe...</td>\n",
       "    </tr>\n",
       "    <tr>\n",
       "      <th>392</th>\n",
       "      <td>Recording(filename='train_trace_392.pkl', labe...</td>\n",
       "    </tr>\n",
       "    <tr>\n",
       "      <th>393</th>\n",
       "      <td>Recording(filename='train_trace_393.pkl', labe...</td>\n",
       "    </tr>\n",
       "    <tr>\n",
       "      <th>394</th>\n",
       "      <td>Recording(filename='train_trace_394.pkl', labe...</td>\n",
       "    </tr>\n",
       "    <tr>\n",
       "      <th>395</th>\n",
       "      <td>Recording(filename='train_trace_395.pkl', labe...</td>\n",
       "    </tr>\n",
       "  </tbody>\n",
       "</table>\n",
       "<p>396 rows × 1 columns</p>\n",
       "</div>"
      ],
      "text/plain": [
       "                                                     0\n",
       "0    Recording(filename='train_trace_000.pkl', labe...\n",
       "1    Recording(filename='train_trace_001.pkl', labe...\n",
       "2    Recording(filename='train_trace_002.pkl', labe...\n",
       "3    Recording(filename='train_trace_003.pkl', labe...\n",
       "4    Recording(filename='train_trace_004.pkl', labe...\n",
       "..                                                 ...\n",
       "391  Recording(filename='train_trace_391.pkl', labe...\n",
       "392  Recording(filename='train_trace_392.pkl', labe...\n",
       "393  Recording(filename='train_trace_393.pkl', labe...\n",
       "394  Recording(filename='train_trace_394.pkl', labe...\n",
       "395  Recording(filename='train_trace_395.pkl', labe...\n",
       "\n",
       "[396 rows x 1 columns]"
      ]
     },
     "execution_count": 95,
     "metadata": {},
     "output_type": "execute_result"
    }
   ],
   "source": [
    "data"
   ]
  },
  {
   "cell_type": "code",
   "execution_count": 96,
   "metadata": {},
   "outputs": [
    {
     "ename": "KeyError",
     "evalue": "'recording'",
     "output_type": "error",
     "traceback": [
      "\u001b[1;31m---------------------------------------------------------------------------\u001b[0m",
      "\u001b[1;31mKeyError\u001b[0m                                  Traceback (most recent call last)",
      "Cell \u001b[1;32mIn[96], line 1\u001b[0m\n\u001b[1;32m----> 1\u001b[0m \u001b[43mdata\u001b[49m\u001b[43m[\u001b[49m\u001b[38;5;124;43m\"\u001b[39;49m\u001b[38;5;124;43mrecording\u001b[39;49m\u001b[38;5;124;43m\"\u001b[39;49m\u001b[43m]\u001b[49m[\u001b[38;5;241m2\u001b[39m]\n",
      "File \u001b[1;32mc:\\Users\\oliwi\\Documents\\MHA\\mhavenv\\Lib\\site-packages\\pandas\\core\\frame.py:4090\u001b[0m, in \u001b[0;36mDataFrame.__getitem__\u001b[1;34m(self, key)\u001b[0m\n\u001b[0;32m   4088\u001b[0m \u001b[38;5;28;01mif\u001b[39;00m \u001b[38;5;28mself\u001b[39m\u001b[38;5;241m.\u001b[39mcolumns\u001b[38;5;241m.\u001b[39mnlevels \u001b[38;5;241m>\u001b[39m \u001b[38;5;241m1\u001b[39m:\n\u001b[0;32m   4089\u001b[0m     \u001b[38;5;28;01mreturn\u001b[39;00m \u001b[38;5;28mself\u001b[39m\u001b[38;5;241m.\u001b[39m_getitem_multilevel(key)\n\u001b[1;32m-> 4090\u001b[0m indexer \u001b[38;5;241m=\u001b[39m \u001b[38;5;28;43mself\u001b[39;49m\u001b[38;5;241;43m.\u001b[39;49m\u001b[43mcolumns\u001b[49m\u001b[38;5;241;43m.\u001b[39;49m\u001b[43mget_loc\u001b[49m\u001b[43m(\u001b[49m\u001b[43mkey\u001b[49m\u001b[43m)\u001b[49m\n\u001b[0;32m   4091\u001b[0m \u001b[38;5;28;01mif\u001b[39;00m is_integer(indexer):\n\u001b[0;32m   4092\u001b[0m     indexer \u001b[38;5;241m=\u001b[39m [indexer]\n",
      "File \u001b[1;32mc:\\Users\\oliwi\\Documents\\MHA\\mhavenv\\Lib\\site-packages\\pandas\\core\\indexes\\range.py:417\u001b[0m, in \u001b[0;36mRangeIndex.get_loc\u001b[1;34m(self, key)\u001b[0m\n\u001b[0;32m    415\u001b[0m         \u001b[38;5;28;01mraise\u001b[39;00m \u001b[38;5;167;01mKeyError\u001b[39;00m(key) \u001b[38;5;28;01mfrom\u001b[39;00m \u001b[38;5;21;01merr\u001b[39;00m\n\u001b[0;32m    416\u001b[0m \u001b[38;5;28;01mif\u001b[39;00m \u001b[38;5;28misinstance\u001b[39m(key, Hashable):\n\u001b[1;32m--> 417\u001b[0m     \u001b[38;5;28;01mraise\u001b[39;00m \u001b[38;5;167;01mKeyError\u001b[39;00m(key)\n\u001b[0;32m    418\u001b[0m \u001b[38;5;28mself\u001b[39m\u001b[38;5;241m.\u001b[39m_check_indexing_error(key)\n\u001b[0;32m    419\u001b[0m \u001b[38;5;28;01mraise\u001b[39;00m \u001b[38;5;167;01mKeyError\u001b[39;00m(key)\n",
      "\u001b[1;31mKeyError\u001b[0m: 'recording'"
     ]
    }
   ],
   "source": [
    "data[\"recording\"][2]"
   ]
  },
  {
   "cell_type": "code",
   "execution_count": null,
   "metadata": {},
   "outputs": [
    {
     "name": "stdout",
     "output_type": "stream",
     "text": [
      "Trace(title='phone_steps', total_time=584.87, samplerate=12.52, max_update_gap=18.00)\n",
      "Trace(title='phone_steps', total_time=519.01, samplerate=12.52, max_update_gap=15.42)\n"
     ]
    },
    {
     "ename": "KeyError",
     "evalue": "'phone_steps'",
     "output_type": "error",
     "traceback": [
      "\u001b[1;31m---------------------------------------------------------------------------\u001b[0m",
      "\u001b[1;31mKeyError\u001b[0m                                  Traceback (most recent call last)",
      "Cell \u001b[1;32mIn[72], line 3\u001b[0m\n\u001b[0;32m      1\u001b[0m \u001b[38;5;28;01mfor\u001b[39;00m sample \u001b[38;5;129;01min\u001b[39;00m data[\u001b[38;5;124m\"\u001b[39m\u001b[38;5;124mrecording\u001b[39m\u001b[38;5;124m\"\u001b[39m]:\n\u001b[1;32m----> 3\u001b[0m     \u001b[38;5;28;01mif\u001b[39;00m \u001b[43msample\u001b[49m\u001b[38;5;241;43m.\u001b[39;49m\u001b[43mdata\u001b[49m\u001b[43m[\u001b[49m\u001b[38;5;124;43m\"\u001b[39;49m\u001b[38;5;124;43mphone_steps\u001b[39;49m\u001b[38;5;124;43m\"\u001b[39;49m\u001b[43m]\u001b[49m \u001b[38;5;241m==\u001b[39m \u001b[38;5;28;01mNone\u001b[39;00m:\n\u001b[0;32m      4\u001b[0m         \u001b[38;5;28mprint\u001b[39m(\u001b[38;5;124m\"\u001b[39m\u001b[38;5;124mshiet\u001b[39m\u001b[38;5;124m\"\u001b[39m)\n\u001b[0;32m      6\u001b[0m     \u001b[38;5;28;01melse\u001b[39;00m:\n",
      "\u001b[1;31mKeyError\u001b[0m: 'phone_steps'"
     ]
    }
   ],
   "source": [
    "for sample in data[\"recording\"]:\n",
    "\n",
    "    if sample.data[\"phone_steps\"] == None:\n",
    "        print(\"shiet\")\n",
    "\n",
    "    else:\n",
    "        print(sample.data[\"phone_steps\"])"
   ]
  },
  {
   "cell_type": "code",
   "execution_count": null,
   "metadata": {},
   "outputs": [
    {
     "data": {
      "image/png": "[encoded data removed]",
      "text/plain": [
       "<Figure size 1000x600 with 1 Axes>"
      ]
     },
     "metadata": {},
     "output_type": "display_data"
    }
   ],
   "source": [
    "data[\"recording\"][5].plot([\"phone_steps\"])"
   ]
  },
  {
   "cell_type": "code",
   "execution_count": null,
   "metadata": {},
   "outputs": [
    {
     "name": "stdout",
     "output_type": "stream",
     "text": [
      "0      NaN\n",
      "1      NaN\n",
      "2      NaN\n",
      "3      NaN\n",
      "4      NaN\n",
      "      ... \n",
      "391    NaN\n",
      "392    NaN\n",
      "393    NaN\n",
      "394    NaN\n",
      "395    NaN\n",
      "Name: recording, Length: 396, dtype: object\n"
     ]
    }
   ],
   "source": [
    "# Define the keys you want to fill with None if they are missing\n",
    "keys_to_fill = [\"phone_steps\"]\n",
    "\n",
    "# Use a dictionary comprehension to fill missing keys with None\n",
    "#data[\"recording\"] = {key: data[\"recording\"].get(key, None) for key in keys_to_fill}\n",
    "\n",
    "print(data[\"recording\"])"
   ]
  },
  {
   "cell_type": "code",
   "execution_count": null,
   "metadata": {},
   "outputs": [],
   "source": []
  }
 ],
 "metadata": {
  "kernelspec": {
   "display_name": "mhavenv",
   "language": "python",
   "name": "python3"
  },
  "language_info": {
   "codemirror_mode": {
    "name": "ipython",
    "version": 3
   },
   "file_extension": ".py",
   "mimetype": "text/x-python",
   "name": "python",
   "nbconvert_exporter": "python",
   "pygments_lexer": "ipython3",
   "version": "3.11.5"
  }
 },
 "nbformat": 4,
 "nbformat_minor": 2
}

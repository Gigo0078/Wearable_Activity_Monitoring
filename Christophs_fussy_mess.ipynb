{
 "cells": [
  {
   "cell_type": "code",
   "execution_count": null,
   "metadata": {},
   "outputs": [],
   "source": [
    "import numpy as np\n",
    "import matplotlib.pyplot as plt\n",
    "\n",
    "# You may change the mhealth_activity module but your algorithm must support the original version\n",
    "from mhealth_activity import Recording, Trace, Activity, WatchLocation, Path\n",
    "\n",
    "# For interactive plots, uncomment the following line\n",
    "%matplotlib widget"
   ]
  },
  {
   "cell_type": "code",
   "execution_count": null,
   "metadata": {},
   "outputs": [],
   "source": [
    "import os\n",
    "import pandas as pd\n",
    "\n",
    "files = os.listdir('data/train')\n",
    "list_of_dfs = []\n",
    "\"\"\"\n",
    "for file in files:\n",
    "    d = Recording(os.path.join('data/train',file))\n",
    "    list_of_dfs.append(d)\n",
    "\n",
    "data = pd.DataFrame(list_of_dfs)\n",
    "\"\"\""
   ]
  },
  {
   "cell_type": "code",
   "execution_count": null,
   "metadata": {},
   "outputs": [],
   "source": [
    "#data.to_pickle('train_data.pkl')"
   ]
  },
  {
   "cell_type": "code",
   "execution_count": null,
   "metadata": {},
   "outputs": [],
   "source": [
    "# Load the DataFrame from the pickle file\n",
    "\"\"\" data = pd.read_pickle('train_data.pkl') \"\"\""
   ]
  },
  {
   "cell_type": "code",
   "execution_count": null,
   "metadata": {},
   "outputs": [],
   "source": [
    "\"\"\" data.columns = [\"recording\"] \"\"\""
   ]
  },
  {
   "cell_type": "code",
   "execution_count": null,
   "metadata": {},
   "outputs": [],
   "source": [
    "\"\"\" christophs_fussy_mess = []\n",
    "for sample in data[\"recording\"]:\n",
    "    try:\n",
    "        phone_steps = sample.data[\"phone_steps\"]\n",
    "    except KeyError:\n",
    "        phone_steps = None\n",
    "    christophs_fussy_mess.extend([[sample.labels[\"path_idx\"],sample.labels[\"activities\"],\n",
    "                                   sample.data[\"longitude\"],sample.data[\"latitude\"],\n",
    "                                   sample.data[\"speed\"],sample.data[\"altitude\"], sample.labels[\"step_count\"], phone_steps]]) \"\"\""
   ]
  },
  {
   "cell_type": "code",
   "execution_count": null,
   "metadata": {},
   "outputs": [],
   "source": [
    "\"\"\" christophs_fussy_mess = pd.DataFrame(christophs_fussy_mess) \"\"\""
   ]
  },
  {
   "cell_type": "code",
   "execution_count": null,
   "metadata": {},
   "outputs": [],
   "source": [
    "\"\"\" christophs_fussy_mess.columns = [\"path_idx\",\"activities\",\"longitude\",\"latitude\",\"speed\",\"altitude\", \"step_count\", \"phone_steps\"] \"\"\""
   ]
  },
  {
   "cell_type": "code",
   "execution_count": null,
   "metadata": {},
   "outputs": [],
   "source": [
    "\"\"\" christophs_fussy_mess.to_pickle('activitylabelcreation_data.pkl')\n",
    " \"\"\"\n",
    "christophs_fussy_mess = pd.read_pickle('activitylabelcreation_data.pkl')"
   ]
  },
  {
   "cell_type": "code",
   "execution_count": null,
   "metadata": {},
   "outputs": [],
   "source": [
    "christophs_fussy_mess"
   ]
  },
  {
   "cell_type": "code",
   "execution_count": null,
   "metadata": {},
   "outputs": [],
   "source": [
    "phone_steps = christophs_fussy_mess['phone_steps'][0]\n",
    "\n",
    "print(\" Time           x-Steps\")\n",
    "\n",
    "for t,x in list(zip(phone_steps.timestamps, phone_steps.values))[::8]: #ich extrahiere nur jedes 8te, das sind circa 3 timestampts für jede 2 sekunden; eventuell ist das aber noch immer viel zu viel weil es immer noch replikas gibt wenn es um die \n",
    "    print(f\"{t: .3f}s \\t{x:.5f} steps?\")\n"
   ]
  },
  {
   "cell_type": "code",
   "execution_count": null,
   "metadata": {},
   "outputs": [],
   "source": [
    "\"\"\" phone_steps = christophs_fussy_mess['phone_steps'][0]\n",
    "\n",
    "print(\" Time           Steps\")\n",
    "\n",
    "# Initialize a dictionary to store steps for each second\n",
    "steps_per_second = {}\n",
    "\n",
    "# Iterate over the timestamps and values\n",
    "for t, x in zip(phone_steps.timestamps, phone_steps.values):\n",
    "    # Get the second part of the timestamp as the key\n",
    "    second = int(t)\n",
    "    #print(\"second:\", second, \"real: \", t)\n",
    "    # If the second is not in the dictionary, initialize it with an empty list\n",
    "    if second not in steps_per_second:\n",
    "        steps_per_second[second] = []\n",
    "    # Add the steps to the list for the current second\n",
    "    steps_per_second[second].append(x)\n",
    "\n",
    "# Calculate the average steps for each second\n",
    "for second, steps in steps_per_second.items():\n",
    "    average_steps = sum(steps) / len(steps)\n",
    "    print(f\"{second}s \\t{average_steps:.5f} steps\") \"\"\"\n",
    "#das pooled alles in eine sekunde jeweils, eine überlegung wert"
   ]
  },
  {
   "cell_type": "code",
   "execution_count": null,
   "metadata": {},
   "outputs": [],
   "source": [
    "#get unique activities\n",
    "\n",
    "import pandas as pd\n",
    "\n",
    "def check_unique_activities(row):\n",
    "    unique_activities = set(row['activities'])\n",
    "    #print(unique_activities)\n",
    "    return unique_activities.issubset({3}) and len(unique_activities) == 1\n",
    "\n",
    "# Apply the function to each row of the DataFrame\n",
    "indices = christophs_fussy_mess[christophs_fussy_mess.apply(check_unique_activities, axis=1)].index\n",
    "\n",
    "# Print the indices of the rows that meet the condition\n",
    "print(indices)\n"
   ]
  },
  {
   "cell_type": "code",
   "execution_count": null,
   "metadata": {},
   "outputs": [],
   "source": [
    "unique_activity_df = christophs_fussy_mess.loc[indices]\n",
    "unique_activity_df.to_pickle('unique_activity_THREE.pkl')\n",
    "#unique_activity_df = pd.read_pickle('unique_activity_df.pkl')"
   ]
  },
  {
   "cell_type": "code",
   "execution_count": null,
   "metadata": {},
   "outputs": [],
   "source": [
    "unique_activity_df"
   ]
  },
  {
   "cell_type": "code",
   "execution_count": null,
   "metadata": {},
   "outputs": [],
   "source": [
    "print(unique_activity_df.loc[162][\"phone_steps\"].values)\n",
    "print(unique_activity_df.loc[162][\"phone_steps\"].timestamps)"
   ]
  },
  {
   "cell_type": "code",
   "execution_count": null,
   "metadata": {},
   "outputs": [],
   "source": [
    "#unique_activity_df.loc[21][\"speed\"]\n",
    "\n",
    "index = 238\n",
    "\n",
    "phone_steps_values = unique_activity_df.loc[index][\"phone_steps\"].values\n",
    "phone_steps_timestamps = unique_activity_df.loc[index][\"phone_steps\"].timestamps\n",
    "speed_values = unique_activity_df.loc[index][\"speed\"].values\n",
    "speed_timestamps = unique_activity_df.loc[index][\"speed\"].timestamps\n",
    "\n",
    "# Create the first plot for phone_steps\n",
    "plt.figure(figsize=(10, 5))  # Optional: specify figure size\n",
    "plt.plot(phone_steps_timestamps, phone_steps_values)\n",
    "plt.xlabel('Timestamps')\n",
    "plt.ylabel('Phone Steps')\n",
    "plt.title('Phone Steps Over Time')\n",
    "plt.show()\n",
    "\n",
    "# Create the second plot for speed\n",
    "plt.figure(figsize=(10, 5))  # Optional: specify figure size\n",
    "plt.plot(speed_timestamps, speed_values)\n",
    "plt.xlabel('Timestamps')\n",
    "plt.ylabel('Speed')\n",
    "plt.title('Speed Over Time')\n",
    "plt.show()\n",
    "\n",
    "speed_values = unique_activity_df.loc[index][\"altitude\"].values\n",
    "speed_timestamps = unique_activity_df.loc[index][\"altitude\"].timestamps\n",
    "\n",
    "plt.figure(figsize=(10, 5))  # Optional: specify figure size\n",
    "plt.plot(speed_timestamps, speed_values)\n",
    "plt.xlabel('Timestamps')\n",
    "plt.ylabel('Altitude')\n",
    "plt.title('Altitude Over Time')\n",
    "plt.show()"
   ]
  },
  {
   "cell_type": "code",
   "execution_count": null,
   "metadata": {},
   "outputs": [],
   "source": [
    "phone_steps = unique_activity_df.loc[index][\"phone_steps\"]\n",
    "\n",
    "print(\" Time           Steps\")\n",
    "\n",
    "# Initialize a dictionary to store steps for each second\n",
    "steps_per_second = {}\n",
    "\n",
    "\n",
    "# Iterate over the timestamps and values\n",
    "for t, x in zip(phone_steps.timestamps, phone_steps.values):\n",
    "    # Get the second part of the timestamp as the key\n",
    "    second = int(t)\n",
    "    #print(\"second:\", second, \"real: \", t)\n",
    "    # If the second is not in the dictionary, initialize it with an empty list\n",
    "    if second not in steps_per_second:\n",
    "        steps_per_second[second] = []\n",
    "    # Add the steps to the list for the current second\n",
    "    steps_per_second[second].append(x)\n",
    "\n",
    "# Calculate the average steps for each second\n",
    "for second, steps in steps_per_second.items():\n",
    "    average_steps = sum(steps) / len(steps)\n",
    "    print(f\"{second}s \\t{average_steps:.5f} steps\")\n",
    "#das pooled alles in eine sekunde jeweils, eine überlegung wert"
   ]
  },
  {
   "cell_type": "code",
   "execution_count": null,
   "metadata": {},
   "outputs": [],
   "source": []
  },
  {
   "cell_type": "code",
   "execution_count": null,
   "metadata": {},
   "outputs": [],
   "source": []
  },
  {
   "cell_type": "code",
   "execution_count": null,
   "metadata": {},
   "outputs": [],
   "source": []
  },
  {
   "cell_type": "code",
   "execution_count": null,
   "metadata": {},
   "outputs": [],
   "source": []
  },
  {
   "cell_type": "code",
   "execution_count": null,
   "metadata": {},
   "outputs": [],
   "source": []
  },
  {
   "cell_type": "code",
   "execution_count": null,
   "metadata": {},
   "outputs": [],
   "source": []
  },
  {
   "cell_type": "code",
   "execution_count": null,
   "metadata": {},
   "outputs": [],
   "source": []
  },
  {
   "cell_type": "code",
   "execution_count": null,
   "metadata": {},
   "outputs": [],
   "source": []
  },
  {
   "cell_type": "code",
   "execution_count": null,
   "metadata": {},
   "outputs": [],
   "source": []
  },
  {
   "cell_type": "code",
   "execution_count": null,
   "metadata": {},
   "outputs": [],
   "source": []
  }
 ],
 "metadata": {
  "kernelspec": {
   "display_name": "mhavenv",
   "language": "python",
   "name": "python3"
  },
  "language_info": {
   "codemirror_mode": {
    "name": "ipython",
    "version": 3
   },
   "file_extension": ".py",
   "mimetype": "text/x-python",
   "name": "python",
   "nbconvert_exporter": "python",
   "pygments_lexer": "ipython3",
   "version": "3.10.13"
  }
 },
 "nbformat": 4,
 "nbformat_minor": 2
}

{
 "cells": [
  {
   "cell_type": "markdown",
   "metadata": {},
   "source": [
    "#### Keep samples where the person only performs walking or running for the entire duration of the recording"
   ]
  },
  {
   "cell_type": "code",
   "execution_count": 1,
   "metadata": {},
   "outputs": [],
   "source": [
    "import numpy as np\n",
    "import matplotlib.pyplot as plt\n",
    "import os\n",
    "import pandas as pd\n",
    "# You may change the mhealth_activity module but your algorithm must support the original version\n",
    "from mhealth_activity import Recording, Trace, Activity, WatchLocation, Path\n",
    "from tqdm import tqdm\n",
    "import pickle"
   ]
  },
  {
   "cell_type": "code",
   "execution_count": 2,
   "metadata": {},
   "outputs": [
    {
     "name": "stdout",
     "output_type": "stream",
     "text": [
      "['train_trace_000.pkl', 'train_trace_001.pkl', 'train_trace_002.pkl', 'train_trace_003.pkl', 'train_trace_004.pkl', 'train_trace_005.pkl', 'train_trace_006.pkl', 'train_trace_007.pkl', 'train_trace_008.pkl', 'train_trace_009.pkl', 'train_trace_010.pkl', 'train_trace_011.pkl', 'train_trace_012.pkl', 'train_trace_013.pkl', 'train_trace_014.pkl', 'train_trace_015.pkl', 'train_trace_016.pkl', 'train_trace_017.pkl', 'train_trace_018.pkl', 'train_trace_019.pkl', 'train_trace_020.pkl', 'train_trace_021.pkl', 'train_trace_022.pkl', 'train_trace_023.pkl', 'train_trace_024.pkl', 'train_trace_025.pkl', 'train_trace_026.pkl', 'train_trace_027.pkl', 'train_trace_028.pkl', 'train_trace_029.pkl', 'train_trace_030.pkl', 'train_trace_031.pkl', 'train_trace_032.pkl', 'train_trace_033.pkl', 'train_trace_034.pkl', 'train_trace_035.pkl', 'train_trace_036.pkl', 'train_trace_037.pkl', 'train_trace_038.pkl', 'train_trace_039.pkl', 'train_trace_040.pkl', 'train_trace_041.pkl', 'train_trace_042.pkl', 'train_trace_043.pkl', 'train_trace_044.pkl', 'train_trace_045.pkl', 'train_trace_046.pkl', 'train_trace_047.pkl', 'train_trace_048.pkl', 'train_trace_049.pkl', 'train_trace_050.pkl', 'train_trace_051.pkl', 'train_trace_052.pkl', 'train_trace_053.pkl', 'train_trace_054.pkl', 'train_trace_055.pkl', 'train_trace_056.pkl', 'train_trace_057.pkl', 'train_trace_058.pkl', 'train_trace_059.pkl', 'train_trace_060.pkl', 'train_trace_061.pkl', 'train_trace_062.pkl', 'train_trace_063.pkl', 'train_trace_064.pkl', 'train_trace_065.pkl', 'train_trace_066.pkl', 'train_trace_067.pkl', 'train_trace_068.pkl', 'train_trace_069.pkl', 'train_trace_070.pkl', 'train_trace_071.pkl', 'train_trace_072.pkl', 'train_trace_073.pkl', 'train_trace_074.pkl', 'train_trace_075.pkl', 'train_trace_076.pkl', 'train_trace_077.pkl', 'train_trace_078.pkl', 'train_trace_079.pkl', 'train_trace_080.pkl', 'train_trace_081.pkl', 'train_trace_082.pkl', 'train_trace_083.pkl', 'train_trace_084.pkl', 'train_trace_085.pkl', 'train_trace_086.pkl', 'train_trace_087.pkl', 'train_trace_088.pkl', 'train_trace_089.pkl', 'train_trace_090.pkl', 'train_trace_091.pkl', 'train_trace_092.pkl', 'train_trace_093.pkl', 'train_trace_094.pkl', 'train_trace_095.pkl', 'train_trace_096.pkl', 'train_trace_097.pkl', 'train_trace_098.pkl', 'train_trace_099.pkl', 'train_trace_100.pkl', 'train_trace_101.pkl', 'train_trace_102.pkl', 'train_trace_103.pkl', 'train_trace_104.pkl', 'train_trace_105.pkl', 'train_trace_106.pkl', 'train_trace_107.pkl', 'train_trace_108.pkl', 'train_trace_109.pkl', 'train_trace_110.pkl', 'train_trace_111.pkl', 'train_trace_112.pkl', 'train_trace_113.pkl', 'train_trace_114.pkl', 'train_trace_115.pkl', 'train_trace_116.pkl', 'train_trace_117.pkl', 'train_trace_118.pkl', 'train_trace_119.pkl', 'train_trace_120.pkl', 'train_trace_121.pkl', 'train_trace_122.pkl', 'train_trace_123.pkl', 'train_trace_124.pkl', 'train_trace_125.pkl', 'train_trace_126.pkl', 'train_trace_127.pkl', 'train_trace_128.pkl', 'train_trace_129.pkl', 'train_trace_130.pkl', 'train_trace_131.pkl', 'train_trace_132.pkl', 'train_trace_133.pkl', 'train_trace_134.pkl', 'train_trace_135.pkl', 'train_trace_136.pkl', 'train_trace_137.pkl', 'train_trace_138.pkl', 'train_trace_139.pkl', 'train_trace_140.pkl', 'train_trace_141.pkl', 'train_trace_142.pkl', 'train_trace_143.pkl', 'train_trace_144.pkl', 'train_trace_145.pkl', 'train_trace_146.pkl', 'train_trace_147.pkl', 'train_trace_148.pkl', 'train_trace_149.pkl', 'train_trace_150.pkl', 'train_trace_151.pkl', 'train_trace_152.pkl', 'train_trace_153.pkl', 'train_trace_154.pkl', 'train_trace_155.pkl', 'train_trace_156.pkl', 'train_trace_157.pkl', 'train_trace_158.pkl', 'train_trace_159.pkl', 'train_trace_160.pkl', 'train_trace_161.pkl', 'train_trace_162.pkl', 'train_trace_163.pkl', 'train_trace_164.pkl', 'train_trace_165.pkl', 'train_trace_166.pkl', 'train_trace_167.pkl', 'train_trace_168.pkl', 'train_trace_169.pkl', 'train_trace_170.pkl', 'train_trace_171.pkl', 'train_trace_172.pkl', 'train_trace_173.pkl', 'train_trace_174.pkl', 'train_trace_175.pkl', 'train_trace_176.pkl', 'train_trace_177.pkl', 'train_trace_178.pkl', 'train_trace_179.pkl', 'train_trace_180.pkl', 'train_trace_181.pkl', 'train_trace_182.pkl', 'train_trace_183.pkl', 'train_trace_184.pkl', 'train_trace_185.pkl', 'train_trace_186.pkl', 'train_trace_187.pkl', 'train_trace_188.pkl', 'train_trace_189.pkl', 'train_trace_190.pkl', 'train_trace_191.pkl', 'train_trace_192.pkl', 'train_trace_193.pkl', 'train_trace_194.pkl', 'train_trace_195.pkl', 'train_trace_196.pkl', 'train_trace_197.pkl', 'train_trace_198.pkl', 'train_trace_199.pkl', 'train_trace_200.pkl', 'train_trace_201.pkl', 'train_trace_202.pkl', 'train_trace_203.pkl', 'train_trace_204.pkl', 'train_trace_205.pkl', 'train_trace_206.pkl', 'train_trace_207.pkl', 'train_trace_208.pkl', 'train_trace_209.pkl', 'train_trace_210.pkl', 'train_trace_211.pkl', 'train_trace_212.pkl', 'train_trace_213.pkl', 'train_trace_214.pkl', 'train_trace_215.pkl', 'train_trace_216.pkl', 'train_trace_217.pkl', 'train_trace_218.pkl', 'train_trace_219.pkl', 'train_trace_220.pkl', 'train_trace_221.pkl', 'train_trace_222.pkl', 'train_trace_223.pkl', 'train_trace_224.pkl', 'train_trace_225.pkl', 'train_trace_226.pkl', 'train_trace_227.pkl', 'train_trace_228.pkl', 'train_trace_229.pkl', 'train_trace_230.pkl', 'train_trace_231.pkl', 'train_trace_232.pkl', 'train_trace_233.pkl', 'train_trace_234.pkl', 'train_trace_235.pkl', 'train_trace_236.pkl', 'train_trace_237.pkl', 'train_trace_238.pkl', 'train_trace_239.pkl', 'train_trace_240.pkl', 'train_trace_241.pkl', 'train_trace_242.pkl', 'train_trace_243.pkl', 'train_trace_244.pkl', 'train_trace_245.pkl', 'train_trace_246.pkl', 'train_trace_247.pkl', 'train_trace_248.pkl', 'train_trace_249.pkl', 'train_trace_250.pkl', 'train_trace_251.pkl', 'train_trace_252.pkl', 'train_trace_253.pkl', 'train_trace_254.pkl', 'train_trace_255.pkl', 'train_trace_256.pkl', 'train_trace_257.pkl', 'train_trace_258.pkl', 'train_trace_259.pkl', 'train_trace_260.pkl', 'train_trace_261.pkl', 'train_trace_262.pkl', 'train_trace_263.pkl', 'train_trace_264.pkl', 'train_trace_265.pkl', 'train_trace_266.pkl', 'train_trace_267.pkl', 'train_trace_268.pkl', 'train_trace_269.pkl', 'train_trace_270.pkl', 'train_trace_271.pkl', 'train_trace_272.pkl', 'train_trace_273.pkl', 'train_trace_274.pkl', 'train_trace_275.pkl', 'train_trace_276.pkl', 'train_trace_277.pkl', 'train_trace_278.pkl', 'train_trace_279.pkl', 'train_trace_280.pkl', 'train_trace_281.pkl', 'train_trace_282.pkl', 'train_trace_283.pkl', 'train_trace_284.pkl', 'train_trace_285.pkl', 'train_trace_286.pkl', 'train_trace_287.pkl', 'train_trace_288.pkl', 'train_trace_289.pkl', 'train_trace_290.pkl', 'train_trace_291.pkl', 'train_trace_292.pkl', 'train_trace_293.pkl', 'train_trace_294.pkl', 'train_trace_295.pkl', 'train_trace_296.pkl', 'train_trace_297.pkl', 'train_trace_298.pkl', 'train_trace_299.pkl', 'train_trace_300.pkl', 'train_trace_301.pkl', 'train_trace_302.pkl', 'train_trace_303.pkl', 'train_trace_304.pkl', 'train_trace_305.pkl', 'train_trace_306.pkl', 'train_trace_307.pkl', 'train_trace_308.pkl', 'train_trace_309.pkl', 'train_trace_310.pkl', 'train_trace_311.pkl', 'train_trace_312.pkl', 'train_trace_313.pkl', 'train_trace_314.pkl', 'train_trace_315.pkl', 'train_trace_316.pkl', 'train_trace_317.pkl', 'train_trace_318.pkl', 'train_trace_319.pkl', 'train_trace_320.pkl', 'train_trace_321.pkl', 'train_trace_322.pkl', 'train_trace_323.pkl', 'train_trace_324.pkl', 'train_trace_325.pkl', 'train_trace_326.pkl', 'train_trace_327.pkl', 'train_trace_328.pkl', 'train_trace_329.pkl', 'train_trace_330.pkl', 'train_trace_331.pkl', 'train_trace_332.pkl', 'train_trace_333.pkl', 'train_trace_334.pkl', 'train_trace_335.pkl', 'train_trace_336.pkl', 'train_trace_337.pkl', 'train_trace_338.pkl', 'train_trace_339.pkl', 'train_trace_340.pkl', 'train_trace_341.pkl', 'train_trace_342.pkl', 'train_trace_343.pkl', 'train_trace_344.pkl', 'train_trace_345.pkl', 'train_trace_346.pkl', 'train_trace_347.pkl', 'train_trace_348.pkl', 'train_trace_349.pkl', 'train_trace_350.pkl', 'train_trace_351.pkl', 'train_trace_352.pkl', 'train_trace_353.pkl', 'train_trace_354.pkl', 'train_trace_355.pkl', 'train_trace_356.pkl', 'train_trace_357.pkl', 'train_trace_358.pkl', 'train_trace_359.pkl', 'train_trace_360.pkl', 'train_trace_361.pkl', 'train_trace_362.pkl', 'train_trace_363.pkl', 'train_trace_364.pkl', 'train_trace_365.pkl', 'train_trace_366.pkl', 'train_trace_367.pkl', 'train_trace_368.pkl', 'train_trace_369.pkl', 'train_trace_370.pkl', 'train_trace_371.pkl', 'train_trace_372.pkl', 'train_trace_373.pkl', 'train_trace_374.pkl', 'train_trace_375.pkl', 'train_trace_376.pkl', 'train_trace_377.pkl', 'train_trace_378.pkl', 'train_trace_379.pkl', 'train_trace_380.pkl', 'train_trace_381.pkl', 'train_trace_382.pkl', 'train_trace_383.pkl', 'train_trace_384.pkl', 'train_trace_385.pkl', 'train_trace_386.pkl', 'train_trace_387.pkl', 'train_trace_388.pkl', 'train_trace_389.pkl', 'train_trace_390.pkl', 'train_trace_391.pkl', 'train_trace_392.pkl', 'train_trace_393.pkl', 'train_trace_394.pkl', 'train_trace_395.pkl']\n"
     ]
    },
    {
     "name": "stderr",
     "output_type": "stream",
     "text": [
      "100%|██████████| 396/396 [02:55<00:00,  2.25it/s]\n"
     ]
    }
   ],
   "source": [
    "create_data_pickle = True\n",
    "if create_data_pickle:\n",
    "    files = os.listdir('data/train')\n",
    "    files.sort()\n",
    "    print(files)\n",
    "    list_of_dicts = []\n",
    "    types_to_include = ['ax', 'ay', 'az','timestamp']\n",
    "\n",
    "    for file in tqdm(files):\n",
    "        Dict = {}\n",
    "        d = Recording(os.path.join('data/train',file))\n",
    "\n",
    "        Dict['labels'] = d.labels\n",
    "        for data_type in types_to_include:\n",
    "            if data_type in d.data.keys():\n",
    "                Dict[data_type] = d.data[data_type]\n",
    "        list_of_dicts.append(Dict)\n",
    "\n",
    "    data = pd.DataFrame(list_of_dicts)\n",
    "    data.to_pickle(path='data/stepcount_data.pkl.zst', compression={'method': 'zstd'})\n",
    "else:\n",
    "    data = pd.read_pickle('data/stepcount_data.pkl.zst')\n",
    "    data = data.drop(columns=['mx', 'my', 'mz', 'speed', 'altitude',\n",
    "       'phone_steps', 'temperature'])"
   ]
  },
  {
   "cell_type": "code",
   "execution_count": 190,
   "metadata": {},
   "outputs": [
    {
     "data": {
      "text/html": [
       "<div>\n",
       "<style scoped>\n",
       "    .dataframe tbody tr th:only-of-type {\n",
       "        vertical-align: middle;\n",
       "    }\n",
       "\n",
       "    .dataframe tbody tr th {\n",
       "        vertical-align: top;\n",
       "    }\n",
       "\n",
       "    .dataframe thead th {\n",
       "        text-align: right;\n",
       "    }\n",
       "</style>\n",
       "<table border=\"1\" class=\"dataframe\">\n",
       "  <thead>\n",
       "    <tr style=\"text-align: right;\">\n",
       "      <th></th>\n",
       "      <th>labels</th>\n",
       "      <th>ax</th>\n",
       "      <th>ay</th>\n",
       "      <th>az</th>\n",
       "      <th>timestamp</th>\n",
       "    </tr>\n",
       "  </thead>\n",
       "  <tbody>\n",
       "    <tr>\n",
       "      <th>0</th>\n",
       "      <td>{'path_idx': 2, 'activities': [1], 'step_count...</td>\n",
       "      <td>Trace(title='ax', total_time=584.87, samplerat...</td>\n",
       "      <td>Trace(title='ay', total_time=584.87, samplerat...</td>\n",
       "      <td>Trace(title='az', total_time=584.87, samplerat...</td>\n",
       "      <td>Trace(title='timestamp', total_time=584.87, sa...</td>\n",
       "    </tr>\n",
       "    <tr>\n",
       "      <th>3</th>\n",
       "      <td>{'path_idx': 2, 'activities': [1], 'step_count...</td>\n",
       "      <td>Trace(title='ax', total_time=519.63, samplerat...</td>\n",
       "      <td>Trace(title='ay', total_time=519.63, samplerat...</td>\n",
       "      <td>Trace(title='az', total_time=519.63, samplerat...</td>\n",
       "      <td>Trace(title='timestamp', total_time=519.63, sa...</td>\n",
       "    </tr>\n",
       "    <tr>\n",
       "      <th>4</th>\n",
       "      <td>{'path_idx': 1, 'activities': [1], 'step_count...</td>\n",
       "      <td>Trace(title='ax', total_time=625.44, samplerat...</td>\n",
       "      <td>Trace(title='ay', total_time=625.44, samplerat...</td>\n",
       "      <td>Trace(title='az', total_time=625.44, samplerat...</td>\n",
       "      <td>Trace(title='timestamp', total_time=625.44, sa...</td>\n",
       "    </tr>\n",
       "    <tr>\n",
       "      <th>5</th>\n",
       "      <td>{'path_idx': 1, 'activities': [1], 'step_count...</td>\n",
       "      <td>Trace(title='ax', total_time=499.81, samplerat...</td>\n",
       "      <td>Trace(title='ay', total_time=499.81, samplerat...</td>\n",
       "      <td>Trace(title='az', total_time=499.81, samplerat...</td>\n",
       "      <td>Trace(title='timestamp', total_time=499.81, sa...</td>\n",
       "    </tr>\n",
       "    <tr>\n",
       "      <th>6</th>\n",
       "      <td>{'path_idx': 3, 'activities': [1], 'step_count...</td>\n",
       "      <td>Trace(title='ax', total_time=473.97, samplerat...</td>\n",
       "      <td>Trace(title='ay', total_time=473.97, samplerat...</td>\n",
       "      <td>Trace(title='az', total_time=473.97, samplerat...</td>\n",
       "      <td>Trace(title='timestamp', total_time=473.97, sa...</td>\n",
       "    </tr>\n",
       "    <tr>\n",
       "      <th>...</th>\n",
       "      <td>...</td>\n",
       "      <td>...</td>\n",
       "      <td>...</td>\n",
       "      <td>...</td>\n",
       "      <td>...</td>\n",
       "    </tr>\n",
       "    <tr>\n",
       "      <th>389</th>\n",
       "      <td>{'path_idx': 2, 'activities': [1], 'step_count...</td>\n",
       "      <td>Trace(title='ax', total_time=733.14, samplerat...</td>\n",
       "      <td>Trace(title='ay', total_time=733.14, samplerat...</td>\n",
       "      <td>Trace(title='az', total_time=733.14, samplerat...</td>\n",
       "      <td>Trace(title='timestamp', total_time=733.14, sa...</td>\n",
       "    </tr>\n",
       "    <tr>\n",
       "      <th>390</th>\n",
       "      <td>{'path_idx': 4, 'activities': [1], 'step_count...</td>\n",
       "      <td>Trace(title='ax', total_time=657.62, samplerat...</td>\n",
       "      <td>Trace(title='ay', total_time=657.62, samplerat...</td>\n",
       "      <td>Trace(title='az', total_time=657.62, samplerat...</td>\n",
       "      <td>Trace(title='timestamp', total_time=657.62, sa...</td>\n",
       "    </tr>\n",
       "    <tr>\n",
       "      <th>392</th>\n",
       "      <td>{'path_idx': 4, 'activities': [1], 'step_count...</td>\n",
       "      <td>Trace(title='ax', total_time=619.13, samplerat...</td>\n",
       "      <td>Trace(title='ay', total_time=619.13, samplerat...</td>\n",
       "      <td>Trace(title='az', total_time=619.13, samplerat...</td>\n",
       "      <td>Trace(title='timestamp', total_time=619.13, sa...</td>\n",
       "    </tr>\n",
       "    <tr>\n",
       "      <th>393</th>\n",
       "      <td>{'path_idx': 2, 'activities': [1], 'step_count...</td>\n",
       "      <td>Trace(title='ax', total_time=747.65, samplerat...</td>\n",
       "      <td>Trace(title='ay', total_time=747.65, samplerat...</td>\n",
       "      <td>Trace(title='az', total_time=747.65, samplerat...</td>\n",
       "      <td>Trace(title='timestamp', total_time=747.65, sa...</td>\n",
       "    </tr>\n",
       "    <tr>\n",
       "      <th>394</th>\n",
       "      <td>{'path_idx': 3, 'activities': [1], 'step_count...</td>\n",
       "      <td>Trace(title='ax', total_time=456.01, samplerat...</td>\n",
       "      <td>Trace(title='ay', total_time=456.01, samplerat...</td>\n",
       "      <td>Trace(title='az', total_time=456.01, samplerat...</td>\n",
       "      <td>Trace(title='timestamp', total_time=456.01, sa...</td>\n",
       "    </tr>\n",
       "  </tbody>\n",
       "</table>\n",
       "<p>216 rows × 5 columns</p>\n",
       "</div>"
      ],
      "text/plain": [
       "                                                labels  \\\n",
       "0    {'path_idx': 2, 'activities': [1], 'step_count...   \n",
       "3    {'path_idx': 2, 'activities': [1], 'step_count...   \n",
       "4    {'path_idx': 1, 'activities': [1], 'step_count...   \n",
       "5    {'path_idx': 1, 'activities': [1], 'step_count...   \n",
       "6    {'path_idx': 3, 'activities': [1], 'step_count...   \n",
       "..                                                 ...   \n",
       "389  {'path_idx': 2, 'activities': [1], 'step_count...   \n",
       "390  {'path_idx': 4, 'activities': [1], 'step_count...   \n",
       "392  {'path_idx': 4, 'activities': [1], 'step_count...   \n",
       "393  {'path_idx': 2, 'activities': [1], 'step_count...   \n",
       "394  {'path_idx': 3, 'activities': [1], 'step_count...   \n",
       "\n",
       "                                                    ax  \\\n",
       "0    Trace(title='ax', total_time=584.87, samplerat...   \n",
       "3    Trace(title='ax', total_time=519.63, samplerat...   \n",
       "4    Trace(title='ax', total_time=625.44, samplerat...   \n",
       "5    Trace(title='ax', total_time=499.81, samplerat...   \n",
       "6    Trace(title='ax', total_time=473.97, samplerat...   \n",
       "..                                                 ...   \n",
       "389  Trace(title='ax', total_time=733.14, samplerat...   \n",
       "390  Trace(title='ax', total_time=657.62, samplerat...   \n",
       "392  Trace(title='ax', total_time=619.13, samplerat...   \n",
       "393  Trace(title='ax', total_time=747.65, samplerat...   \n",
       "394  Trace(title='ax', total_time=456.01, samplerat...   \n",
       "\n",
       "                                                    ay  \\\n",
       "0    Trace(title='ay', total_time=584.87, samplerat...   \n",
       "3    Trace(title='ay', total_time=519.63, samplerat...   \n",
       "4    Trace(title='ay', total_time=625.44, samplerat...   \n",
       "5    Trace(title='ay', total_time=499.81, samplerat...   \n",
       "6    Trace(title='ay', total_time=473.97, samplerat...   \n",
       "..                                                 ...   \n",
       "389  Trace(title='ay', total_time=733.14, samplerat...   \n",
       "390  Trace(title='ay', total_time=657.62, samplerat...   \n",
       "392  Trace(title='ay', total_time=619.13, samplerat...   \n",
       "393  Trace(title='ay', total_time=747.65, samplerat...   \n",
       "394  Trace(title='ay', total_time=456.01, samplerat...   \n",
       "\n",
       "                                                    az  \\\n",
       "0    Trace(title='az', total_time=584.87, samplerat...   \n",
       "3    Trace(title='az', total_time=519.63, samplerat...   \n",
       "4    Trace(title='az', total_time=625.44, samplerat...   \n",
       "5    Trace(title='az', total_time=499.81, samplerat...   \n",
       "6    Trace(title='az', total_time=473.97, samplerat...   \n",
       "..                                                 ...   \n",
       "389  Trace(title='az', total_time=733.14, samplerat...   \n",
       "390  Trace(title='az', total_time=657.62, samplerat...   \n",
       "392  Trace(title='az', total_time=619.13, samplerat...   \n",
       "393  Trace(title='az', total_time=747.65, samplerat...   \n",
       "394  Trace(title='az', total_time=456.01, samplerat...   \n",
       "\n",
       "                                             timestamp  \n",
       "0    Trace(title='timestamp', total_time=584.87, sa...  \n",
       "3    Trace(title='timestamp', total_time=519.63, sa...  \n",
       "4    Trace(title='timestamp', total_time=625.44, sa...  \n",
       "5    Trace(title='timestamp', total_time=499.81, sa...  \n",
       "6    Trace(title='timestamp', total_time=473.97, sa...  \n",
       "..                                                 ...  \n",
       "389  Trace(title='timestamp', total_time=733.14, sa...  \n",
       "390  Trace(title='timestamp', total_time=657.62, sa...  \n",
       "392  Trace(title='timestamp', total_time=619.13, sa...  \n",
       "393  Trace(title='timestamp', total_time=747.65, sa...  \n",
       "394  Trace(title='timestamp', total_time=456.01, sa...  \n",
       "\n",
       "[216 rows x 5 columns]"
      ]
     },
     "execution_count": 190,
     "metadata": {},
     "output_type": "execute_result"
    }
   ],
   "source": [
    "# Check where the list length in labels[\"activities\"] is 1\n",
    "walking = []\n",
    "running = []\n",
    "for i in range(len(data)):\n",
    "    if len(data.iloc[i][\"labels\"][\"activities\"])==1:\n",
    "        if data.iloc[i][\"labels\"][\"activities\"] == [1]:\n",
    "            walking.append(data.iloc[i])\n",
    "        elif data.iloc[i][\"labels\"][\"activities\"] == [2]:\n",
    "            running.append(data.iloc[i])\n",
    "walking = pd.DataFrame(walking)\n",
    "running = pd.DataFrame(running)\n",
    "walking"
   ]
  },
  {
   "cell_type": "code",
   "execution_count": 195,
   "metadata": {},
   "outputs": [],
   "source": [
    "indices_walking = np.array(walking.index)"
   ]
  },
  {
   "cell_type": "markdown",
   "metadata": {},
   "source": [
    "#### Butterworth Filter"
   ]
  },
  {
   "cell_type": "code",
   "execution_count": 40,
   "metadata": {},
   "outputs": [],
   "source": [
    "from scipy.signal import butter, lfilter, freqz\n",
    "\n",
    "def butter_lowpass(cutoff, fs, order=5):\n",
    "    return butter(order, cutoff, fs=fs, btype='low', analog=False)\n",
    "\n",
    "def butter_lowpass_filter(data, cutoff, fs, order=5):\n",
    "    b, a = butter_lowpass(cutoff, fs, order=order)\n",
    "    y = lfilter(b, a, data)\n",
    "    return y"
   ]
  },
  {
   "cell_type": "code",
   "execution_count": 56,
   "metadata": {},
   "outputs": [],
   "source": [
    "#def mag_norm(input):\n",
    "#    return (np.sqrt(input['ax'].values**2 + input['ay'].values**2 + input['az'].values**2))\n",
    "\n",
    "### Unpacking all the relevant signals\n",
    "ax_walking = [x.values for x in walking[\"ax\"]]\n",
    "ay_walking = [x.values for x in walking[\"ay\"]]\n",
    "az_walking = [x.values for x in walking[\"az\"]]\n",
    "timestamps_walking = [x.values for x in walking[\"timestamp\"]]\n",
    "\n",
    "ax_running = [x.values for x in running[\"ax\"]]\n",
    "ay_running = [x.values for x in running[\"ay\"]]\n",
    "az_running = [x.values for x in running[\"az\"]]\n",
    "timestamps_running = [x.values for x in running[\"timestamp\"]]"
   ]
  },
  {
   "cell_type": "code",
   "execution_count": 70,
   "metadata": {},
   "outputs": [],
   "source": [
    "samplerates_dataframe_x = []\n",
    "for sample in walking[\"ax\"]:\n",
    "    samplerates_dataframe_x.append(sample.samplerate)\n",
    "\n",
    "samplerates_dataframe_y = []\n",
    "for sample in walking[\"ay\"]:\n",
    "    samplerates_dataframe_y.append(sample.samplerate)\n",
    "\n",
    "samplerates_dataframe_z = []\n",
    "for sample in walking[\"az\"]:\n",
    "    samplerates_dataframe_z.append(sample.samplerate)"
   ]
  },
  {
   "cell_type": "code",
   "execution_count": 75,
   "metadata": {},
   "outputs": [],
   "source": [
    "ax_filtered = []\n",
    "for i in range(len(ax_walking)):\n",
    "    signal = ax_walking[i]\n",
    "    samplerate = samplerates_dataframe_x[i]\n",
    "    signal = butter_lowpass_filter(signal, cutoff = samplerate/3, fs = samplerate, order = 5)\n",
    "    ax_filtered.append(signal)\n",
    "\n",
    "ay_filtered = []\n",
    "for i in range(len(ay_walking)):\n",
    "    signal = ay_walking[i]\n",
    "    samplerate = samplerates_dataframe_y[i]\n",
    "    signal = butter_lowpass_filter(signal, cutoff = samplerate/3, fs = samplerate, order = 5)\n",
    "    ay_filtered.append(signal)\n",
    "\n",
    "az_filtered = []\n",
    "for i in range(len(az_walking)):\n",
    "    signal = az_walking[i]\n",
    "    samplerate = samplerates_dataframe_z[i]\n",
    "    signal = butter_lowpass_filter(signal, cutoff = samplerate/3, fs = samplerate, order = 5)\n",
    "    az_filtered.append(signal)"
   ]
  },
  {
   "cell_type": "markdown",
   "metadata": {},
   "source": [
    "#### Magnitude"
   ]
  },
  {
   "cell_type": "code",
   "execution_count": 78,
   "metadata": {},
   "outputs": [],
   "source": [
    "magnitude = np.sqrt(pd.DataFrame(ax_filtered)**2+pd.DataFrame(ay_filtered)**2+pd.DataFrame(az_filtered)**2)"
   ]
  },
  {
   "cell_type": "markdown",
   "metadata": {},
   "source": [
    "#### Find peaks"
   ]
  },
  {
   "cell_type": "markdown",
   "metadata": {},
   "source": [
    "The threshold parameter is dependent on the smartwatch location, this has to be fine-tuned"
   ]
  },
  {
   "cell_type": "code",
   "execution_count": 171,
   "metadata": {},
   "outputs": [],
   "source": [
    "from scipy.signal import find_peaks\n",
    "\n",
    "peaks = []\n",
    "for i in range(len(magnitude)):\n",
    "    peaks.append(find_peaks(magnitude.iloc[i,:], threshold = 0.0865))"
   ]
  },
  {
   "cell_type": "code",
   "execution_count": 217,
   "metadata": {},
   "outputs": [],
   "source": [
    "peaks_and_indices = pd.concat([pd.DataFrame(indices_walking),pd.DataFrame(peaks)],axis=1)\n",
    "peaks_and_indices = peaks_and_indices.drop(1,axis=1)"
   ]
  },
  {
   "cell_type": "code",
   "execution_count": 218,
   "metadata": {},
   "outputs": [],
   "source": [
    "peaks_and_indices = peaks_and_indices.set_axis([\"Indices\",\"Peaks\"],axis=1)\n",
    "peaks_and_indices = peaks_and_indices.set_index(\"Indices\")\n",
    "peaks_and_indices.index.name = None"
   ]
  },
  {
   "cell_type": "code",
   "execution_count": 219,
   "metadata": {},
   "outputs": [
    {
     "data": {
      "text/html": [
       "<div>\n",
       "<style scoped>\n",
       "    .dataframe tbody tr th:only-of-type {\n",
       "        vertical-align: middle;\n",
       "    }\n",
       "\n",
       "    .dataframe tbody tr th {\n",
       "        vertical-align: top;\n",
       "    }\n",
       "\n",
       "    .dataframe thead th {\n",
       "        text-align: right;\n",
       "    }\n",
       "</style>\n",
       "<table border=\"1\" class=\"dataframe\">\n",
       "  <thead>\n",
       "    <tr style=\"text-align: right;\">\n",
       "      <th></th>\n",
       "      <th>Peaks</th>\n",
       "    </tr>\n",
       "  </thead>\n",
       "  <tbody>\n",
       "    <tr>\n",
       "      <th>0</th>\n",
       "      <td>[2, 767, 1401, 1407, 1604, 1609, 1612, 1715, 2...</td>\n",
       "    </tr>\n",
       "    <tr>\n",
       "      <th>3</th>\n",
       "      <td>[2, 1002, 1299, 1943, 1982, 2600, 2604, 2844, ...</td>\n",
       "    </tr>\n",
       "    <tr>\n",
       "      <th>4</th>\n",
       "      <td>[2, 45079, 45084, 45086, 45088, 45092, 45095]</td>\n",
       "    </tr>\n",
       "    <tr>\n",
       "      <th>5</th>\n",
       "      <td>[2, 775, 781, 791, 874, 882, 1029, 1117, 1124,...</td>\n",
       "    </tr>\n",
       "    <tr>\n",
       "      <th>6</th>\n",
       "      <td>[2, 1127, 1992, 1996, 2621, 3018, 3218, 3425, ...</td>\n",
       "    </tr>\n",
       "    <tr>\n",
       "      <th>...</th>\n",
       "      <td>...</td>\n",
       "    </tr>\n",
       "    <tr>\n",
       "      <th>389</th>\n",
       "      <td>[2, 659, 788, 1105, 1538, 1542, 2606, 2868, 55...</td>\n",
       "    </tr>\n",
       "    <tr>\n",
       "      <th>390</th>\n",
       "      <td>[2, 438, 444, 520, 636, 643, 648, 719, 725, 72...</td>\n",
       "    </tr>\n",
       "    <tr>\n",
       "      <th>392</th>\n",
       "      <td>[2, 103044]</td>\n",
       "    </tr>\n",
       "    <tr>\n",
       "      <th>393</th>\n",
       "      <td>[2, 1185, 1361, 1419, 1759, 1762, 1842, 1846, ...</td>\n",
       "    </tr>\n",
       "    <tr>\n",
       "      <th>394</th>\n",
       "      <td>[2, 40587, 42958, 90915]</td>\n",
       "    </tr>\n",
       "  </tbody>\n",
       "</table>\n",
       "<p>216 rows × 1 columns</p>\n",
       "</div>"
      ],
      "text/plain": [
       "                                                 Peaks\n",
       "0    [2, 767, 1401, 1407, 1604, 1609, 1612, 1715, 2...\n",
       "3    [2, 1002, 1299, 1943, 1982, 2600, 2604, 2844, ...\n",
       "4        [2, 45079, 45084, 45086, 45088, 45092, 45095]\n",
       "5    [2, 775, 781, 791, 874, 882, 1029, 1117, 1124,...\n",
       "6    [2, 1127, 1992, 1996, 2621, 3018, 3218, 3425, ...\n",
       "..                                                 ...\n",
       "389  [2, 659, 788, 1105, 1538, 1542, 2606, 2868, 55...\n",
       "390  [2, 438, 444, 520, 636, 643, 648, 719, 725, 72...\n",
       "392                                        [2, 103044]\n",
       "393  [2, 1185, 1361, 1419, 1759, 1762, 1842, 1846, ...\n",
       "394                           [2, 40587, 42958, 90915]\n",
       "\n",
       "[216 rows x 1 columns]"
      ]
     },
     "execution_count": 219,
     "metadata": {},
     "output_type": "execute_result"
    }
   ],
   "source": [
    "peaks_and_indices"
   ]
  },
  {
   "cell_type": "code",
   "execution_count": 261,
   "metadata": {},
   "outputs": [
    {
     "data": {
      "text/plain": [
       "1"
      ]
     },
     "execution_count": 261,
     "metadata": {},
     "output_type": "execute_result"
    }
   ],
   "source": [
    "len(peaks_and_indices.loc[165].to_numpy()[0])"
   ]
  },
  {
   "cell_type": "code",
   "execution_count": 258,
   "metadata": {},
   "outputs": [
    {
     "data": {
      "text/plain": [
       "{'path_idx': 4, 'activities': [1], 'step_count': 1023, 'watch_loc': 1}"
      ]
     },
     "execution_count": 258,
     "metadata": {},
     "output_type": "execute_result"
    }
   ],
   "source": [
    "data[\"labels\"][165]"
   ]
  },
  {
   "cell_type": "code",
   "execution_count": 95,
   "metadata": {},
   "outputs": [
    {
     "name": "stdout",
     "output_type": "stream",
     "text": [
      "14\n",
      "15\n",
      "17\n",
      "18\n",
      "19\n",
      "30\n",
      "46\n",
      "74\n",
      "82\n",
      "147\n",
      "165\n",
      "178\n",
      "184\n",
      "190\n",
      "201\n",
      "228\n",
      "236\n",
      "237\n",
      "242\n",
      "245\n",
      "252\n",
      "274\n",
      "300\n",
      "308\n",
      "312\n",
      "313\n",
      "315\n",
      "341\n",
      "361\n",
      "369\n",
      "374\n",
      "381\n",
      "388\n"
     ]
    }
   ],
   "source": [
    "step_count_present = []\n",
    "for sample in data[\"labels\"]:\n",
    "    if sample[\"step_count\"] != None:\n",
    "        step_count_present.append([i,sample[\"step_count\"],])\n",
    "    i = i+1"
   ]
  },
  {
   "cell_type": "markdown",
   "metadata": {},
   "source": [
    "### Now gotta try to visualize this somehow"
   ]
  },
  {
   "cell_type": "code",
   "execution_count": null,
   "metadata": {},
   "outputs": [],
   "source": [
    "### Find all the samples where the step count is given"
   ]
  }
 ],
 "metadata": {
  "kernelspec": {
   "display_name": "mhavenv",
   "language": "python",
   "name": "python3"
  },
  "language_info": {
   "codemirror_mode": {
    "name": "ipython",
    "version": 3
   },
   "file_extension": ".py",
   "mimetype": "text/x-python",
   "name": "python",
   "nbconvert_exporter": "python",
   "pygments_lexer": "ipython3",
   "version": "3.11.5"
  }
 },
 "nbformat": 4,
 "nbformat_minor": 2
}

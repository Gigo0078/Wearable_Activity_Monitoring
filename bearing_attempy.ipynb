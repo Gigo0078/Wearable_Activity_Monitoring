{
 "cells": [
  {
   "cell_type": "code",
   "execution_count": 27,
   "metadata": {},
   "outputs": [],
   "source": [
    "import numpy as np\n",
    "import matplotlib.pyplot as plt\n",
    "\n",
    "# You may change the mhealth_activity module but your algorithm must support the original version\n",
    "from mhealth_activity import Recording, Trace, Activity, WatchLocation, Path\n",
    "\n",
    "# For interactive plots, uncomment the following line\n",
    "# %matplotlib widget\n",
    "import os\n",
    "import pandas as pd\n",
    "import pickle\n",
    "import math\n",
    "from tqdm import tqdm\n",
    "from scipy.fft import fft, fftfreq\n",
    "import scipy.stats as stats\n",
    "from sklearn.model_selection import train_test_split\n",
    "from sklearn.preprocessing import StandardScaler\n",
    "from sklearn.ensemble import RandomForestRegressor\n",
    "from sklearn.linear_model import Perceptron\n",
    "from sklearn.neighbors import KNeighborsClassifier\n",
    "from scipy.signal import find_peaks\n",
    "from scipy.signal import peak_prominences\n",
    "from sklearn import svm\n",
    "from sklearn.metrics import mean_absolute_error,accuracy_score,precision_score,recall_score,confusion_matrix,classification_report,f1_score\n",
    "from multiprocessing import Pool\n",
    "from mpl_toolkits.mplot3d import Axes3D"
   ]
  },
  {
   "cell_type": "code",
   "execution_count": 2,
   "metadata": {},
   "outputs": [],
   "source": [
    "data = pd.read_pickle('data/pickled_and_sorted_training_data.pkl.zst')\n",
    "\n",
    "data = data[['ax','ay', 'az', 'mx', 'my', 'mz']]\n",
    "#magneto sampling rate is ~12.5 10 sample averaging\n",
    "#accel sampling rate is 200 100 sample averaging\n",
    "#10 sample "
   ]
  },
  {
   "cell_type": "code",
   "execution_count": 46,
   "metadata": {},
   "outputs": [
    {
     "name": "stdout",
     "output_type": "stream",
     "text": [
      "200.3029712382496 12.5189357023906\n",
      "200.25856969724995 12.516160606078122\n",
      "200.01380194876782 12.500862621797989\n",
      "200.0496506174574 12.503103163591087\n",
      "199.94755725532582 12.496722328457864\n",
      "199.88475574620654 12.492797234137909\n",
      "199.91096501684703 12.49443531355294\n",
      "199.85738332355066 12.491086457721917\n",
      "199.96265371995625 12.497665857497266\n",
      "197.27620196489335 12.329762622805834\n"
     ]
    }
   ],
   "source": [
    "for i in range(10):\n",
    "    d = Recording(f\"data/train/train_trace_00{i}.pkl\")\n",
    "    print(f\"{d.data['ax'].samplerate} {d.data['mx'].samplerate}\")\n"
   ]
  },
  {
   "cell_type": "code",
   "execution_count": 48,
   "metadata": {},
   "outputs": [
    {
     "name": "stdout",
     "output_type": "stream",
     "text": [
      "1.5992063492063493\n"
     ]
    }
   ],
   "source": [
    "#downsample/filter with an average, if the input is 40 elements long and winlen is 10 output will have 4 elements\n",
    "def window_average(input, winlen: int):\n",
    "\n",
    "    numwins = int(len(input)/winlen)\n",
    "    remainder = len(input)%winlen\n",
    "    output=[]\n",
    "\n",
    "    for i in range(numwins):\n",
    "        output.append(np.mean(input[winlen*i:winlen*(i+1)]))\n",
    "    \n",
    "    return output\n",
    "\n",
    "\n",
    "\n",
    "numtrace = 100\n",
    "\n",
    "averageratio = int(len(ax)/len(mx))\n",
    "\n",
    "ax = window_average(data['ax'].loc[numtrace].values, averageratio)\n",
    "ay = window_average(data['ay'].loc[numtrace].values, averageratio)\n",
    "az = window_average(data['az'].loc[numtrace].values, averageratio)\n",
    "\n",
    "mx = window_average(data['mx'].loc[numtrace].values, 10)\n",
    "my = window_average(data['my'].loc[numtrace].values, 10)\n",
    "mz = window_average(data['mz'].loc[numtrace].values, 10)\n",
    "\n",
    "\n"
   ]
  },
  {
   "cell_type": "code",
   "execution_count": 29,
   "metadata": {},
   "outputs": [
    {
     "name": "stdout",
     "output_type": "stream",
     "text": [
      "78.95337103911245\n"
     ]
    }
   ],
   "source": [
    "accelvec = np.array([az[0], ay[0], ax[0]])\n",
    "magvec   = np.array([mz[0], my[0], mx[0]])\n",
    "\n",
    "# proj = magvec - ((np.dot(magvec, accelvec) / np.dot(accelvec, accelvec)) * accelvec)\n",
    "\n",
    "def getproj(a,b):\n",
    "    return a - ((np.dot(a, b) / np.dot(b, b)) * b)\n",
    "\n",
    "def getbearing(accelvec, magvec):\n",
    "    proj = getproj(magvec, accelvec)\n",
    "    return math.atan2(proj[1], proj[0]) * 180.0 / math.pi\n",
    "\n",
    "print(getbearing(accelvec, magvec))\n"
   ]
  },
  {
   "cell_type": "code",
   "execution_count": null,
   "metadata": {},
   "outputs": [],
   "source": [
    "#plot bearings extracted from a plot\n",
    "# z,y,x\n",
    "current = [0,0,0]\n",
    "for point in range(5000):\n",
    "    accelvec = np.array([az[point], ay[point], ax[point]])\n",
    "    magvec   = np.array([mz[point], my[point], mx[point]])\n",
    "    proj = getproj(magvec, accelvec)\n",
    "\n",
    "    length = math.sqrt(proj[0]**2 + proj[1]**2)\n",
    "    plt.arrow(current[0], current[1], proj[0]/length, proj[1]/length)\n",
    "    current += proj\n",
    "\n",
    "plt.plot\n"
   ]
  },
  {
   "cell_type": "code",
   "execution_count": null,
   "metadata": {},
   "outputs": [],
   "source": [
    "def classify_bearings()"
   ]
  },
  {
   "cell_type": "code",
   "execution_count": null,
   "metadata": {},
   "outputs": [],
   "source": [
    "def vecplot(vecs):\n",
    "    fig = plt.figure(facecolor=plt.cm.Blues(0.2))\n",
    "\n",
    "    ax =  fig.add_subplot(projection = '3d')\n",
    "    fig.suptitle(\n",
    "\n",
    "        f\"3D-vector (2,3,4)\",\n",
    "\n",
    "        fontsize=18,\n",
    "\n",
    "        fontweight=\"bold\",\n",
    "\n",
    "    )\n",
    "    for vec in vecs:\n",
    "        xs, ys, zs = zip(vec, (0, 0, 0))\n",
    "        ax.plot(xs, ys, zs)\n",
    "        ax.set_facecolor(plt.cm.Blues(0.2))\n",
    "\n",
    "vecplot([accelvec])"
   ]
  }
 ],
 "metadata": {
  "kernelspec": {
   "display_name": "Python 3",
   "language": "python",
   "name": "python3"
  },
  "language_info": {
   "codemirror_mode": {
    "name": "ipython",
    "version": 3
   },
   "file_extension": ".py",
   "mimetype": "text/x-python",
   "name": "python",
   "nbconvert_exporter": "python",
   "pygments_lexer": "ipython3",
   "version": "3.12.3"
  }
 },
 "nbformat": 4,
 "nbformat_minor": 2
}

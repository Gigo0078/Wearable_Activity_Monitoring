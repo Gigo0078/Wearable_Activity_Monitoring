{
 "cells": [
  {
   "cell_type": "code",
   "execution_count": 1,
   "metadata": {},
   "outputs": [],
   "source": [
    "import numpy as np\n",
    "import matplotlib.pyplot as plt\n",
    "import os\n",
    "import pandas as pd\n",
    "# You may change the mhealth_activity module but your algorithm must support the original version\n",
    "from mhealth_activity import Recording, Trace, Activity, WatchLocation, Path\n",
    "from tqdm import tqdm\n",
    "from multiprocessing import Pool\n",
    "import pickle\n",
    "# For interactive plots, uncomment the following line\n",
    "# %matplotlib widget"
   ]
  },
  {
   "cell_type": "code",
   "execution_count": 7,
   "metadata": {},
   "outputs": [],
   "source": [
    "create_data_pickle = False\n",
    "if create_data_pickle:\n",
    "    files = os.listdir('data/train')\n",
    "    list_of_dicts = []\n",
    "    # types_to_include = ['ax', 'ay', 'az','gx', 'gy', 'gz', 'phone_ax', 'phone_ay', 'phone_az', 'mx', 'my', 'mz', 'phone_mx', 'phone_my', 'phone_mz', 'speed', 'longitude', 'latitude', 'altitude', 'phone_steps', 'temperature']\n",
    "    types_to_include = ['ax', 'ay', 'az','gx', 'gy', 'gz','mx', 'my', 'mz',  'speed', 'altitude', 'phone_steps', 'temperature']\n",
    "\n",
    "    for file in tqdm(files):\n",
    "        Dict = {}\n",
    "        d = Recording(os.path.join('data/train',file))\n",
    "\n",
    "        Dict['labels'] = d.labels\n",
    "        for data_type in types_to_include:\n",
    "            if data_type in d.data.keys():\n",
    "                Dict[data_type] = d.data[data_type]\n",
    "        list_of_dicts.append(Dict)\n",
    "\n",
    "    data = pd.DataFrame(list_of_dicts)\n",
    "    data.to_pickle(path='data/pickled_and_sorted_training_data.pkl.zst', compression={'method': 'zstd'})\n",
    "else:\n",
    "    data = pd.read_pickle('data/pickled_and_sorted_training_data.pkl.zst')\n",
    "    data = data.drop(columns=['labels', 'ax', 'ay', 'az', 'mx', 'my', 'mz', 'speed', 'altitude',\n",
    "       'phone_steps', 'temperature'])"
   ]
  },
  {
   "cell_type": "code",
   "execution_count": 8,
   "metadata": {},
   "outputs": [
    {
     "data": {
      "text/plain": [
       "Index(['gx', 'gy', 'gz'], dtype='object')"
      ]
     },
     "execution_count": 8,
     "metadata": {},
     "output_type": "execute_result"
    }
   ],
   "source": [
    "data.columns"
   ]
  },
  {
   "cell_type": "code",
   "execution_count": 10,
   "metadata": {},
   "outputs": [],
   "source": [
    "def mag_norm(input):\n",
    "    return (np.sqrt(input[1]['mx'].values**2 + input[1]['my'].values**2 + input[1]['mz'].values**2))\n",
    "\n",
    "def calc_magneto_mag(input):\n",
    "\n",
    "    mag = []\n",
    "    with Pool(4) as p:\n",
    "        mag = p.map(mag_norm, data.iterrows())        \n",
    "    # print(mag)\n",
    "    return mag\n",
    "\n",
    "def accel_norm(input):\n",
    "    return (np.sqrt(input[1]['ax'].values**2 + input[1]['ay'].values**2 + input[1]['az'].values**2))\n",
    "\n",
    "def calc_accel_mag(input):\n",
    "\n",
    "    mag = []\n",
    "    with Pool(2) as p:\n",
    "        mag = p.map(accel_norm, data.iterrows())        \n",
    "    # print(mag)\n",
    "    return mag\n",
    "\n",
    "def gyro_norm(input):\n",
    "    return (np.sqrt(input[1]['gx'].values**2 + input[1]['gy'].values**2 + input[1]['gz'].values**2))\n",
    "\n",
    "def calc_gyro_mag(input):\n",
    "\n",
    "    mag = []\n",
    "    with Pool(1) as p:\n",
    "        mag = p.map(gyro_norm, data.iterrows())        \n",
    "    # print(mag)\n",
    "    return mag\n",
    "\n",
    "\n",
    "\n",
    "\n",
    "calc_watch_vals = True\n",
    "if calc_watch_vals:\n",
    "\n",
    "    # accel_mag   = calc_accel_mag(data)\n",
    "\n",
    "    # with open('data/accel_mag_train.pkl', 'wb') as f:\n",
    "    #     pickle.dump(accel_mag, f)\n",
    "    #     f.close()\n",
    "\n",
    "    # magneto_mag = calc_magneto_mag(data)\n",
    "    # print(\"calced\")\n",
    "\n",
    "    # with open('data/magneto_mag_train.pkl', 'wb') as f:\n",
    "    #     pickle.dump(magneto_mag, f)\n",
    "    #     f.close()\n",
    "        \n",
    "    gyro_mag    = calc_gyro_mag(data)\n",
    "    with open('data/gyro_mag_train.pkl', 'wb') as f:\n",
    "        pickle.dump(gyro_mag, f)\n",
    "        f.close()\n",
    "\n",
    "\n",
    "\n",
    "\n",
    "    \n",
    "\n",
    "    "
   ]
  },
  {
   "cell_type": "code",
   "execution_count": null,
   "metadata": {},
   "outputs": [],
   "source": [
    "#handle phone data too, doesnt really work now\n",
    "def phone_mag_norm(input):\n",
    "    return (np.sqrt(input[1]['phone_mx'].values**2 + input[1]['phone_my'].values**2 + input[1]['phone_mz'].values**2))\n",
    "\n",
    "def calc_phone_magneto_mag(input):\n",
    "\n",
    "    mag = []\n",
    "    with Pool(8) as p:\n",
    "        mag = p.map(phone_mag_norm, data.iterrows())        \n",
    "    # print(mag)\n",
    "    return mag\n",
    "\n",
    "def phone_accel_norm(input):\n",
    "    if(len(input[1]['phone_ax'].values) != len(input[1]['phone_ay'].values**2) or len (input[1]['phone_ay'].values**2 ) != len(input[1]['phone_az'].values**2) or len (input[1]['phone_ax'].values**2 ) != len(input[1]['phone_az'].values**2)):\n",
    "        print(f\"{len(input[1]['phone_ax'].values)} {len(input[1]['phone_ay'].values**2)} {len(input[1]['phone_az'].values**2)}\" )\n",
    "\n",
    "    return (np.sqrt(input[1]['phone_ax'].values**2 + input[1]['phone_ay'].values**2 + input[1]['phone_az'].values**2))\n",
    "\n",
    "def calc_phone_accel_mag(input):\n",
    "\n",
    "    mag = []\n",
    "    with Pool(4) as p:\n",
    "        mag = p.map(phone_accel_norm, data.iterrows())        \n",
    "    print(mag)\n",
    "    return mag\n",
    "\n",
    "calc_phone_mags = False\n",
    "if calc_phone_mags:\n",
    "    phone_accel_mag = calc_phone_accel_mag(data)\n",
    "    phone_magneto_mag = calc_phone_magneto_mag(data)\n",
    "    with open('data/phone_accel_mag_train.pkl', 'wb') as f:\n",
    "        pickle.dump(phone_accel_mag, f)\n",
    "        f.close()\n",
    "\n",
    "    with open('data/phone_magneto_mag_train.pkl', 'wb') as f:\n",
    "        pickle.dump(phone_magneto_mag, f)\n",
    "        f.close()"
   ]
  },
  {
   "cell_type": "code",
   "execution_count": 5,
   "metadata": {},
   "outputs": [],
   "source": [
    "#rinse and repeat for test data\n",
    "create_data_pickle = False\n",
    "if create_data_pickle:\n",
    "    files = os.listdir('data/test')\n",
    "    list_of_dicts = []\n",
    "    types_to_include = ['ax', 'ay', 'az', 'phone_ax', 'phone_ay', 'phone_az', 'speed', 'longitude', 'latitude', 'altitude', 'phone_steps']\n",
    "\n",
    "    for file in tqdm(files):\n",
    "        Dict = {}\n",
    "        d = Recording(os.path.join('data/test',file))\n",
    "\n",
    "        Dict['labels'] = d.labels\n",
    "        for data_type in types_to_include:\n",
    "            if data_type in d.data.keys():\n",
    "                Dict[data_type] = d.data[data_type]\n",
    "        list_of_dicts.append(Dict)\n",
    "\n",
    "    data_test = pd.DataFrame(list_of_dicts)\n",
    "    data_test.to_pickle(path='data/pickled_and_sorted_test_data.pkl.zst', compression={'method': 'zstd'})\n",
    "else:\n",
    "    data_test = pd.read_pickle('data/pickled_and_sorted_test_data.pkl.zst')"
   ]
  },
  {
   "cell_type": "code",
   "execution_count": null,
   "metadata": {},
   "outputs": [],
   "source": [
    "calc_a_mag = True\n",
    "if calc_a_mag:\n",
    "\n",
    "    accel_mag = calc_accel_mag(data_test)\n",
    "    with open('data/accel_mag_test.pkl', 'wb') as f:\n",
    "        pickle.dump(accel_mag, f)\n",
    "        f.close()\n",
    "\n",
    "else:\n",
    "    file = open('data/accel_mag_test.pkl', 'rb')\n",
    "    accel_mag =  pickle.load(file)\n",
    "    file.close()\n",
    "    # print(\"aaa\")\n",
    "    # print(accel_mag)"
   ]
  },
  {
   "cell_type": "code",
   "execution_count": 6,
   "metadata": {},
   "outputs": [
    {
     "name": "stdout",
     "output_type": "stream",
     "text": [
      "dict_keys(['phone_mx', 'gx', 'altitude', 'phone_rotx', 'phone_steps', 'longitude', 'phone_gravy', 'lostPackets', 'phone_gz', 'latitude', 'phone_my', 'timestamp', 'gz', 'ax', 'my', 'phone_pressure', 'phone_gravx', 'phone_gy', 'phone_orientationx', 'temperature', 'phone_az', 'mz', 'az', 'gy', 'phone_mz', 'phone_rotm', 'phone_ax', 'packetNumber', 'phone_orientationz', 'phone_gravz', 'speed', 'bearing', 'phone_gx', 'phone_lax', 'phone_laz', 'phone_rotz', 'ay', 'phone_roty', 'phone_lay', 'mx', 'phone_ay', 'phone_orientationy'])\n"
     ]
    }
   ],
   "source": [
    "d = Recording('data/train/train_trace_000.pkl')\n",
    "print(d.data.keys())"
   ]
  },
  {
   "cell_type": "code",
   "execution_count": null,
   "metadata": {},
   "outputs": [],
   "source": [
    " list_of_dicts = []\n",
    "    # types_to_include = ['ax', 'ay', 'az','gx', 'gy', 'gz', 'phone_ax', 'phone_ay', 'phone_az', 'mx', 'my', 'mz', 'phone_mx', 'phone_my', 'phone_mz', 'speed', 'longitude', 'latitude', 'altitude', 'phone_steps', 'temperature']\n",
    "    types_to_include = ['ax', 'gx', 'gy', 'gz','mx', 'my', 'mz',  'speed', 'altitude', 'phone_steps', 'temperature']\n",
    "\n",
    "    for file in tqdm(files):\n",
    "        Dict = {}\n",
    "        d = Recording(os.path.join('data/train',file))\n",
    "\n",
    "        Dict[\"accel_time\"] = d.data['ax'].timestamps\n",
    "        Dict[\"gyro_time\"] = d.data['gx'].timestamps\n",
    "        Dict[\"magneto_time\"] = d.data['mx'].timestamps\n",
    "\n",
    "        list_of_dicts.append(Dict)\n",
    "        \n",
    "    data = pd.DataFrame(list_of_dicts)"
   ]
  }
 ],
 "metadata": {
  "kernelspec": {
   "display_name": "Python 3",
   "language": "python",
   "name": "python3"
  },
  "language_info": {
   "codemirror_mode": {
    "name": "ipython",
    "version": 3
   },
   "file_extension": ".py",
   "mimetype": "text/x-python",
   "name": "python",
   "nbconvert_exporter": "python",
   "pygments_lexer": "ipython3",
   "version": "3.12.3"
  }
 },
 "nbformat": 4,
 "nbformat_minor": 2
}

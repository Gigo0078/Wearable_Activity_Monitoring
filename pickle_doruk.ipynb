{
 "cells": [
  {
   "cell_type": "code",
   "execution_count": null,
   "metadata": {},
   "outputs": [],
   "source": [
    "import numpy as np\n",
    "import matplotlib.pyplot as plt\n",
    "import os\n",
    "import pandas as pd\n",
    "# You may change the mhealth_activity module but your algorithm must support the original version\n",
    "from mhealth_activity import Recording, Trace, Activity, WatchLocation, Path\n",
    "from tqdm import tqdm\n",
    "# For interactive plots, uncomment the following line\n",
    "# %matplotlib widget"
   ]
  },
  {
   "cell_type": "code",
   "execution_count": null,
   "metadata": {},
   "outputs": [],
   "source": [
    "create_data_pickle = False\n",
    "if create_data_pickle:\n",
    "    files = os.listdir('data/train')\n",
    "    list_of_dicts = []\n",
    "    types_to_include = ['ax', 'ay', 'az', 'phone_ax', 'phone_ay', 'phone_az', 'speed', 'longitude', 'latitude', 'altitude', 'phone_steps']\n",
    "\n",
    "    for file in tqdm(files):\n",
    "        Dict = {}\n",
    "        d = Recording(os.path.join('data/train',file))\n",
    "\n",
    "        Dict['labels'] = d.labels\n",
    "        for data_type in types_to_include:\n",
    "            if data_type in d.data.keys():\n",
    "                Dict[data_type] = d.data[data_type]\n",
    "        list_of_dicts.append(Dict)\n",
    "\n",
    "    data = pd.DataFrame(list_of_dicts)\n",
    "    data.to_pickle(path='data/pickled_and_sorted_training_data.pkl.zst', compression={'method': 'zstd'})\n",
    "else:\n",
    "    data = pd.read_pickle('data/pickled_and_sorted_training_data.pkl.zst')"
   ]
  }
 ],
 "metadata": {
  "language_info": {
   "name": "python"
  }
 },
 "nbformat": 4,
 "nbformat_minor": 2
}

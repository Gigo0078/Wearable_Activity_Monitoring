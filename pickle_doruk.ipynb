{
 "cells": [
  {
   "cell_type": "code",
   "execution_count": 1,
   "metadata": {},
   "outputs": [],
   "source": [
    "import numpy as np\n",
    "import matplotlib.pyplot as plt\n",
    "import os\n",
    "import pandas as pd\n",
    "# You may change the mhealth_activity module but your algorithm must support the original version\n",
    "from mhealth_activity import Recording, Trace, Activity, WatchLocation, Path\n",
    "from tqdm import tqdm\n",
    "# For interactive plots, uncomment the following line\n",
    "# %matplotlib widget"
   ]
  },
  {
   "cell_type": "code",
   "execution_count": 2,
   "metadata": {},
   "outputs": [],
   "source": [
    "create_data_pickle = False\n",
    "if create_data_pickle:\n",
    "    files = os.listdir('data/train')\n",
    "    list_of_dicts = []\n",
    "    types_to_include = ['ax', 'ay', 'az', 'phone_ax', 'phone_ay', 'phone_az', 'speed', 'longitude', 'latitude', 'altitude', 'phone_steps']\n",
    "\n",
    "    for file in tqdm(files):\n",
    "        Dict = {}\n",
    "        d = Recording(os.path.join('data/train',file))\n",
    "\n",
    "        Dict['labels'] = d.labels\n",
    "        for data_type in types_to_include:\n",
    "            if data_type in d.data.keys():\n",
    "                Dict[data_type] = d.data[data_type]\n",
    "        list_of_dicts.append(Dict)\n",
    "\n",
    "    data = pd.DataFrame(list_of_dicts)\n",
    "    data.to_pickle(path='data/pickled_and_sorted_training_data.pkl.zst', compression={'method': 'zstd'})\n",
    "else:\n",
    "    data = pd.read_pickle('data/pickled_and_sorted_training_data.pkl.zst')"
   ]
  },
  {
   "cell_type": "code",
   "execution_count": 11,
   "metadata": {},
   "outputs": [
    {
     "name": "stdout",
     "output_type": "stream",
     "text": [
      "{'path_idx': 1, 'activities': [1], 'step_count': None, 'watch_loc': 0}\n",
      "{'path_idx': 4, 'activities': [1], 'step_count': None, 'watch_loc': 0}\n",
      "{'path_idx': 2, 'activities': [0, 1, 2], 'step_count': None, 'watch_loc': 0}\n",
      "{'path_idx': 3, 'activities': [1], 'step_count': None, 'watch_loc': 0}\n",
      "{'path_idx': 1, 'activities': [1, 3], 'step_count': 147, 'watch_loc': 0}\n",
      "{'path_idx': 2, 'activities': [2, 1, 0, 1], 'step_count': None, 'watch_loc': 1}\n",
      "{'path_idx': 4, 'activities': [1, 2], 'step_count': None, 'watch_loc': 2}\n",
      "{'path_idx': 2, 'activities': [1], 'step_count': None, 'watch_loc': 2}\n",
      "{'path_idx': 0, 'activities': [1], 'step_count': None, 'watch_loc': 1}\n",
      "{'path_idx': 3, 'activities': [1], 'step_count': None, 'watch_loc': 2}\n",
      "{'path_idx': 0, 'activities': [1], 'step_count': None, 'watch_loc': 0}\n",
      "{'path_idx': 3, 'activities': [1, 2], 'step_count': None, 'watch_loc': 1}\n",
      "{'path_idx': 4, 'activities': [0, 1], 'step_count': None, 'watch_loc': 0}\n",
      "{'path_idx': 0, 'activities': [1], 'step_count': None, 'watch_loc': 2}\n",
      "{'path_idx': 1, 'activities': [0, 1, 2], 'step_count': None, 'watch_loc': 2}\n",
      "{'path_idx': 2, 'activities': [2, 1, 0, 1, 0, 1], 'step_count': None, 'watch_loc': 1}\n",
      "{'path_idx': 2, 'activities': [2], 'step_count': None, 'watch_loc': 2}\n",
      "{'path_idx': 4, 'activities': [2, 1, 2, 1], 'step_count': None, 'watch_loc': 0}\n",
      "{'path_idx': 3, 'activities': [1, 2], 'step_count': None, 'watch_loc': 2}\n",
      "{'path_idx': 4, 'activities': [1], 'step_count': None, 'watch_loc': 1}\n"
     ]
    },
    {
     "data": {
      "text/plain": [
       "\"Recording(filename='train_trace_000.pkl', labels={'path_idx': 2, 'activities': [1], 'step_count': None, 'watch_loc': 1}, data={'altitude': Trace(title='altitude', total_time=584.87, samplerate=12.52, max_update_gap=9.99), 'ax': Trace(title='ax', total_time=584.87, samplerate=200.30, max_update_gap=0.02), 'ay': Trace(title='ay', total_time=584.87, samplerate=200.30, max_update_gap=0.02), 'az': Trace(title='az', total_time=584.87, samplerate=200.30, max_update_gap=0.04), 'bearing': Trace(title='bearing', total_time=584.87, samplerate=12.52, max_update_gap=9.99), 'gx': Trace(title='gx', total_time=584.87, samplerate=200.30, max_update_gap=0.02), 'gy': Trace(title='gy', total_time=584.87, samplerate=200.30, max_update_gap=0.02), 'gz': Trace(title='gz', total_time=584.87, samplerate=200.30, max_update_gap=0.02), 'latitude': Trace(title='latitude', total_time=584.87, samplerate=12.52, max_update_gap=9.99), 'longitude': Trace(title='longitude', total_time=584.87, samplerate=12.52, max_update_gap=9.99), 'lostPackets': Trace(title='lostPackets', total_time=584.87, samplerate=12.52, max_update_gap=584.87), 'mx': Trace(title='mx', total_time=584.87, samplerate=12.52, max_update_gap=1.68), 'my': Trace(title='my', total_time=584.87, samplerate=12.52, max_update_gap=1.14), 'mz': Trace(title='mz', total_time=584.87, samplerate=12.52, max_update_gap=1.20), 'packetNumber': Trace(title='packetNumber', total_time=584.87, samplerate=12.52, max_update_gap=0.29), 'phone_ax': Trace(title='phone_ax', total_time=584.87, samplerate=99.96, max_update_gap=0.18), 'phone_ay': Trace(title='phone_ay', total_time=584.87, samplerate=99.96, max_update_gap=0.18), 'phone_az': Trace(title='phone_az', total_time=584.87, samplerate=99.96, max_update_gap=0.18), 'phone_gravx': Trace(title='phone_gravx', total_time=584.87, samplerate=99.96, max_update_gap=0.18), 'phone_gravy': Trace(title='phone_gravy', total_time=584.87, samplerate=99.96, max_update_gap=0.18), 'phone_gravz': Trace(title='phone_gravz', total_time=584.87, samplerate=99.96, max_update_gap=0.18), 'phone_gx': Trace(title='phone_gx', total_time=584.87, samplerate=99.96, max_update_gap=0.18), 'phone_gy': Trace(title='phone_gy', total_time=584.87, samplerate=99.96, max_update_gap=0.18), 'phone_gz': Trace(title='phone_gz', total_time=584.87, samplerate=99.96, max_update_gap=0.18), 'phone_lax': Trace(title='phone_lax', total_time=584.87, samplerate=99.96, max_update_gap=0.18), 'phone_lay': Trace(title='phone_lay', total_time=584.87, samplerate=99.96, max_update_gap=0.18), 'phone_laz': Trace(title='phone_laz', total_time=584.87, samplerate=99.96, max_update_gap=0.18), 'phone_mx': Trace(title='phone_mx', total_time=584.87, samplerate=99.96, max_update_gap=0.18), 'phone_my': Trace(title='phone_my', total_time=584.87, samplerate=99.96, max_update_gap=0.18), 'phone_mz': Trace(title='phone_mz', total_time=584.87, samplerate=99.96, max_update_gap=0.18), 'phone_orientationx': Trace(title='phone_orientationx', total_time=584.87, samplerate=99.96, max_update_gap=0.18), 'phone_orientationy': Trace(title='phone_orientationy', total_time=584.87, samplerate=99.96, max_update_gap=0.18), 'phone_orientationz': Trace(title='phone_orientationz', total_time=584.87, samplerate=99.96, max_update_gap=0.18), 'phone_pressure': Trace(title='phone_pressure', total_time=584.87, samplerate=0.93, max_update_gap=2.16), 'phone_rotm': Trace(title='phone_rotm', total_time=584.87, samplerate=99.96, max_update_gap=0.18), 'phone_rotx': Trace(title='phone_rotx', total_time=584.87, samplerate=99.96, max_update_gap=0.18), 'phone_roty': Trace(title='phone_roty', total_time=584.87, samplerate=99.96, max_update_gap=0.18), 'phone_rotz': Trace(title='phone_rotz', total_time=584.87, samplerate=99.96, max_update_gap=0.18), 'phone_steps': Trace(title='phone_steps', total_time=584.87, samplerate=12.52, max_update_gap=18.00), 'speed': Trace(title='speed', total_time=584.87, samplerate=12.52, max_update_gap=15.03), 'temperature': Trace(title='temperature', total_time=584.87, samplerate=12.52, max_update_gap=114.99), 'timestamp': Trace(title='timestamp', total_time=584.87, samplerate=12.52, max_update_gap=0.29)})\""
      ]
     },
     "execution_count": 11,
     "metadata": {},
     "output_type": "execute_result"
    }
   ],
   "source": [
    "for i in range(20):\n",
    "    print(data.loc[i]['labels'])\n",
    "\n",
    "d = Recording('data/train/train_trace_000.pkl')\n",
    "d.__repr__()"
   ]
  }
 ],
 "metadata": {
  "kernelspec": {
   "display_name": "Python 3",
   "language": "python",
   "name": "python3"
  },
  "language_info": {
   "codemirror_mode": {
    "name": "ipython",
    "version": 3
   },
   "file_extension": ".py",
   "mimetype": "text/x-python",
   "name": "python",
   "nbconvert_exporter": "python",
   "pygments_lexer": "ipython3",
   "version": "3.12.3"
  }
 },
 "nbformat": 4,
 "nbformat_minor": 2
}

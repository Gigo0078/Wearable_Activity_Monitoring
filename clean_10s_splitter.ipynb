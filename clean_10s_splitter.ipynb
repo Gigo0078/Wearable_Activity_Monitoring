{
 "cells": [
  {
   "cell_type": "code",
   "execution_count": 1,
   "metadata": {},
   "outputs": [],
   "source": [
    "import numpy as np\n",
    "import matplotlib.pyplot as plt\n",
    "import pandas as pd\n",
    "\n",
    "# You may change the mhealth_activity module but your algorithm must support the original version\n",
    "from mhealth_activity import Recording, Trace, Activity, WatchLocation, Path"
   ]
  },
  {
   "cell_type": "code",
   "execution_count": 2,
   "metadata": {},
   "outputs": [],
   "source": [
    "\n",
    "unique_one = pd.read_pickle('unique_activity_ONE.pkl')\n",
    "unique_two = pd.read_pickle('unique_activity_TWO.pkl')\n",
    "unique_three = pd.read_pickle('unique_activity_THREE.pkl')\n",
    "\n",
    "unique_all = pd.concat([unique_one, unique_two, unique_three])"
   ]
  },
  {
   "cell_type": "code",
   "execution_count": 3,
   "metadata": {},
   "outputs": [
    {
     "data": {
      "text/plain": [
       "array([47.37826037, 47.37826037, 47.37826037, ..., 47.37675426,\n",
       "       47.37675426, 47.37675426])"
      ]
     },
     "execution_count": 3,
     "metadata": {},
     "output_type": "execute_result"
    }
   ],
   "source": [
    "df = unique_all\n",
    "df[\"latitude\"][0].values"
   ]
  },
  {
   "cell_type": "code",
   "execution_count": 4,
   "metadata": {},
   "outputs": [
    {
     "data": {
      "text/plain": [
       "path_idx                                                       2\n",
       "activities                                                   [1]\n",
       "longitude      Trace(title='longitude', total_time=519.63, sa...\n",
       "latitude       Trace(title='latitude', total_time=519.63, sam...\n",
       "speed          Trace(title='speed', total_time=519.63, sample...\n",
       "altitude       Trace(title='altitude', total_time=519.63, sam...\n",
       "step_count                                                   NaN\n",
       "phone_steps                                                 None\n",
       "Name: 3, dtype: object"
      ]
     },
     "execution_count": 4,
     "metadata": {},
     "output_type": "execute_result"
    }
   ],
   "source": [
    "df.loc[3]"
   ]
  },
  {
   "cell_type": "code",
   "execution_count": 5,
   "metadata": {},
   "outputs": [],
   "source": [
    "traces_of_interest = [\"longitude\", \"latitude\", \"speed\", \"altitude\", \"phone_steps\"]"
   ]
  },
  {
   "cell_type": "code",
   "execution_count": 6,
   "metadata": {},
   "outputs": [
    {
     "data": {
      "text/plain": [
       "5"
      ]
     },
     "execution_count": 6,
     "metadata": {},
     "output_type": "execute_result"
    }
   ],
   "source": [
    "len(traces_of_interest)"
   ]
  },
  {
   "cell_type": "markdown",
   "metadata": {},
   "source": [
    "Now we have to loop through the whole data and loop through all traces to pool the seconds and save the features in a more sensible format."
   ]
  },
  {
   "cell_type": "code",
   "execution_count": null,
   "metadata": {},
   "outputs": [],
   "source": []
  },
  {
   "cell_type": "code",
   "execution_count": 7,
   "metadata": {},
   "outputs": [
    {
     "name": "stdout",
     "output_type": "stream",
     "text": [
      "Sample Index: 0\n"
     ]
    },
    {
     "ename": "NameError",
     "evalue": "name 'seconds_array' is not defined",
     "output_type": "error",
     "traceback": [
      "\u001b[1;31m---------------------------------------------------------------------------\u001b[0m",
      "\u001b[1;31mNameError\u001b[0m                                 Traceback (most recent call last)",
      "Cell \u001b[1;32mIn[7], line 37\u001b[0m\n\u001b[0;32m     34\u001b[0m         \u001b[38;5;66;03m# Add the steps to the list for the current second\u001b[39;00m\n\u001b[0;32m     35\u001b[0m         traces_per_second[second]\u001b[38;5;241m.\u001b[39mappend(x)\n\u001b[1;32m---> 37\u001b[0m         current_sample_traces\u001b[38;5;241m.\u001b[39mappend(np\u001b[38;5;241m.\u001b[39mstack((\u001b[43mseconds_array\u001b[49m, average_traces_array), axis\u001b[38;5;241m=\u001b[39m\u001b[38;5;241m-\u001b[39m\u001b[38;5;241m1\u001b[39m))\n\u001b[0;32m     39\u001b[0m \u001b[38;5;66;03m# Calculate the average steps for each second\u001b[39;00m\n\u001b[0;32m     40\u001b[0m \u001b[38;5;28;01mfor\u001b[39;00m second, steps \u001b[38;5;129;01min\u001b[39;00m traces_per_second\u001b[38;5;241m.\u001b[39mitems():\n",
      "\u001b[1;31mNameError\u001b[0m: name 'seconds_array' is not defined"
     ]
    }
   ],
   "source": [
    "#careful expecta a pandas df\n",
    "\n",
    "all_samples_traces = []\n",
    "\n",
    "for sample_index, sample in df.iterrows():\n",
    "    print(f\"Sample Index: {sample_index}\")\n",
    "\n",
    "\n",
    "    for trace_id in range(0, len(traces_of_interest)):\n",
    "        #print(trace_id)\n",
    "\n",
    "        trace = traces_of_interest[trace_id]\n",
    "\n",
    "\n",
    "        current_trace = df[trace][sample_index]\n",
    "\n",
    "        if current_trace is not None:  # Check if current_trace is not None\n",
    "\n",
    "            traces_per_second = {}\n",
    "            seconds = []\n",
    "            average_traces = []\n",
    "\n",
    "            # Initialize a list to store the traces for the current sample\n",
    "            current_sample_traces = []\n",
    "\n",
    "            for t, x in zip(current_trace.timestamps, current_trace.values):\n",
    "                # Get the second part of the timestamp as the key\n",
    "                second = int(t)\n",
    "                #print(\"second:\", second, \"real: \", t)\n",
    "\n",
    "                # If the second is not in the dictionary, initialize it with an empty list\n",
    "                if second not in traces_per_second:\n",
    "                    traces_per_second[second] = []\n",
    "                    # Add the steps to the list for the current second\n",
    "                    traces_per_second[second].append(x)\n",
    "\n",
    "                    current_sample_traces.append(np.stack((seconds_array, average_traces_array), axis=-1))\n",
    "\n",
    "            # Calculate the average steps for each second\n",
    "            for second, steps in traces_per_second.items():\n",
    "                average_step = sum(steps) / len(steps)\n",
    "                #print(f\"{second}s \\t{average_step:.5f} steps\")\n",
    "                seconds.append(second)\n",
    "                average_traces.append(round(average_step, 9))\n",
    "\n",
    "            seconds_array = np.array(seconds)\n",
    "            average_traces_array = np.array(average_traces)\n",
    "            #print(\"Seconds:\", seconds_array)\n",
    "            #print(f\"Average Steps for {trace}:\", average_traces_array)\n",
    "        else:\n",
    "            #print(\"current_trace is None\")  # Handle the case where current_trace is None\n",
    "            current_sample_traces.append(None)\n",
    "\n",
    "        all_samples_traces.append(current_sample_traces)\n",
    "\n"
   ]
  },
  {
   "cell_type": "code",
   "execution_count": null,
   "metadata": {},
   "outputs": [],
   "source": [
    "all_samples_traces"
   ]
  },
  {
   "cell_type": "code",
   "execution_count": null,
   "metadata": {},
   "outputs": [],
   "source": []
  }
 ],
 "metadata": {
  "kernelspec": {
   "display_name": "mhealth",
   "language": "python",
   "name": "python3"
  },
  "language_info": {
   "codemirror_mode": {
    "name": "ipython",
    "version": 3
   },
   "file_extension": ".py",
   "mimetype": "text/x-python",
   "name": "python",
   "nbconvert_exporter": "python",
   "pygments_lexer": "ipython3",
   "version": "3.10.13"
  }
 },
 "nbformat": 4,
 "nbformat_minor": 2
}

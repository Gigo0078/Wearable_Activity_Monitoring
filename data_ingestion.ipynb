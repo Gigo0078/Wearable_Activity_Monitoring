{
 "cells": [
  {
   "cell_type": "code",
   "execution_count": 1,
   "metadata": {},
   "outputs": [],
   "source": [
    "import matplotlib.pyplot as plt\n",
    "\n",
    "# You may change the mhealth_activity module but your algorithm must support the original version\n",
    "from mhealth_activity import Recording, Trace, Activity, WatchLocation, Path\n",
    "\n",
    "import numpy as np"
   ]
  },
  {
   "cell_type": "code",
   "execution_count": 2,
   "metadata": {},
   "outputs": [],
   "source": [
    "import os\n",
    "import pandas as pd\n",
    "\n",
    "files = os.listdir('./data/train')\n",
    "list_of_dfs = []\n",
    "\n",
    "for file in files:\n",
    "    d = Recording(os.path.join('./data/train',file))\n",
    "    list_of_dfs.append(d)\n",
    "\n",
    "data = pd.DataFrame(list_of_dfs)"
   ]
  },
  {
   "cell_type": "code",
   "execution_count": null,
   "metadata": {},
   "outputs": [],
   "source": [
    "data.columns = [\"recording\"]"
   ]
  },
  {
   "cell_type": "code",
   "execution_count": null,
   "metadata": {},
   "outputs": [],
   "source": [
    "## Dataframe for acceleration data\n",
    "acceleration = []\n",
    "for row in data[\"recording\"]:\n",
    "    acceleration.extend([[row.data[\"ax\"],row.data[\"ay\"],row.data[\"az\"]]])\n",
    "\n",
    "acceleration = np.array(acceleration)"
   ]
  },
  {
   "cell_type": "code",
   "execution_count": 10,
   "metadata": {},
   "outputs": [],
   "source": [
    "\"\"\"\n",
    "accelerator_list_x = []\n",
    "for sample in acceleration[:,0]:\n",
    "    inside_list = []\n",
    "    for x, t in list(zip(sample.timestamps, sample.values)):\n",
    "        inside_list.append([x,t])\n",
    "    accelerator_list_x.append(inside_list)\n",
    "\"\"\""
   ]
  },
  {
   "cell_type": "code",
   "execution_count": null,
   "metadata": {},
   "outputs": [],
   "source": [
    "import scipy.stats as stats\n",
    "\n",
    "FEATURES = ['MIN','MAX','MEAN','RMS','VAR','STD','POWER','PEAK','P2P','CREST FACTOR','SKEW','KURTOSIS',\n",
    "            'MAX_f','SUM_f','MEAN_f','VAR_f','PEAK_f','SKEW_f','KURTOSIS_f']"
   ]
  },
  {
   "cell_type": "code",
   "execution_count": null,
   "metadata": {},
   "outputs": [],
   "source": [
    "def features_extraction(df): \n",
    "    \n",
    "    \n",
    "    Min=[];Max=[];Mean=[];Rms=[];Var=[];Std=[];Power=[];Peak=[];Skew=[];Kurtosis=[];P2p=[];CrestFactor=[];\n",
    "    FormFactor=[]; PulseIndicator=[];\n",
    "    Max_f=[];Sum_f=[];Mean_f=[];Var_f=[];Peak_f=[];Skew_f=[];Kurtosis_f=[]\n",
    "    \n",
    "    X = df.values\n",
    "    ## TIME DOMAIN ##\n",
    "\n",
    "    Min.append(np.min(X))\n",
    "    Max.append(np.max(X))\n",
    "    Mean.append(np.mean(X))\n",
    "    Rms.append(np.sqrt(np.mean(X**2)))\n",
    "    Var.append(np.var(X))\n",
    "    Std.append(np.std(X))\n",
    "    Power.append(np.mean(X**2))\n",
    "    Peak.append(np.max(np.abs(X)))\n",
    "    P2p.append(np.ptp(X))\n",
    "    CrestFactor.append(np.max(np.abs(X))/np.sqrt(np.mean(X**2)))\n",
    "    Skew.append(stats.skew(X))\n",
    "    Kurtosis.append(stats.kurtosis(X))\n",
    "    FormFactor.append(np.sqrt(np.mean(X**2))/np.mean(X))\n",
    "    PulseIndicator.append(np.max(np.abs(X))/np.mean(X))\n",
    "    ## FREQ DOMAIN ##\n",
    "    ft = fft(X)\n",
    "    S = np.abs(ft**2)/len(df)\n",
    "    Max_f.append(np.max(S))\n",
    "    Sum_f.append(np.sum(S))\n",
    "    Mean_f.append(np.mean(S))\n",
    "    Var_f.append(np.var(S))\n",
    "    \n",
    "    Peak_f.append(np.max(np.abs(S)))\n",
    "    Skew_f.append(stats.skew(X))\n",
    "    Kurtosis_f.append(stats.kurtosis(X))\n",
    "    #Create dataframe from features\n",
    "    df_features = pd.DataFrame(index = [FEATURES], \n",
    "                               data = [Min,Max,Mean,Rms,Var,Std,Power,Peak,P2p,CrestFactor,Skew,Kurtosis,\n",
    "                                       Max_f,Sum_f,Mean_f,Var_f,Peak_f,Skew_f,Kurtosis_f])\n",
    "    return df_features"
   ]
  },
  {
   "cell_type": "code",
   "execution_count": null,
   "metadata": {},
   "outputs": [],
   "source": [
    "inside_list = []\n",
    "for x, t in list(zip(acceleration[0,1].timestamps, acceleration[0,1].values)):\n",
    "    inside_list.append([x,t])\n",
    "inside_list = pd.DataFrame(inside_list)\n",
    "features_signal = features_extraction(inside_list)"
   ]
  },
  {
   "cell_type": "code",
   "execution_count": null,
   "metadata": {},
   "outputs": [],
   "source": [
    "trial = pd.DataFrame.transpose(features_signal)"
   ]
  },
  {
   "cell_type": "code",
   "execution_count": null,
   "metadata": {},
   "outputs": [],
   "source": [
    "from scipy.fft import fft, fftfreq\n",
    "\n",
    "for sample in acceleration[1:,1]:\n",
    "    new = []\n",
    "    for x, t in list(zip(sample.timestamps, sample.values)):\n",
    "        new.append([x,t])\n",
    "    new = pd.DataFrame(new)\n",
    "    features_inside = features_extraction(new)\n",
    "    trial = pd.concat([trial,pd.DataFrame.transpose(features_inside)])"
   ]
  },
  {
   "cell_type": "code",
   "execution_count": null,
   "metadata": {},
   "outputs": [],
   "source": [
    "trial.to_csv(f'extracted_signal_accelerator_y.csv')"
   ]
  },
  {
   "cell_type": "code",
   "execution_count": null,
   "metadata": {},
   "outputs": [],
   "source": []
  },
  {
   "cell_type": "code",
   "execution_count": null,
   "metadata": {},
   "outputs": [],
   "source": []
  }
 ],
 "metadata": {
  "kernelspec": {
   "display_name": "mhealth",
   "language": "python",
   "name": "python3"
  },
  "language_info": {
   "codemirror_mode": {
    "name": "ipython",
    "version": 3
   },
   "file_extension": ".py",
   "mimetype": "text/x-python",
   "name": "python",
   "nbconvert_exporter": "python",
   "pygments_lexer": "ipython3",
   "version": "3.10.13"
  }
 },
 "nbformat": 4,
 "nbformat_minor": 2
}
